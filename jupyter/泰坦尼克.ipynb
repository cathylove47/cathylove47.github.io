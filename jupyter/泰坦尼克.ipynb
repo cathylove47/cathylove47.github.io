{
 "cells": [
  {
   "cell_type": "markdown",
   "source": [
    "# 导入数据"
   ],
   "metadata": {
    "collapsed": false
   },
   "id": "10f50f27261cce33"
  },
  {
   "cell_type": "code",
   "execution_count": 112,
   "outputs": [
    {
     "name": "stdout",
     "output_type": "stream",
     "text": [
      "训练集大小： (891, 12) 测试集大小： (418, 11)\n",
      "合并后的数据集大小： (1309, 12)\n",
      "合并后的数据集前5行：\n",
      "    PassengerId  Survived  Pclass  \\\n",
      "0            1       0.0       3   \n",
      "1            2       1.0       1   \n",
      "2            3       1.0       3   \n",
      "3            4       1.0       1   \n",
      "4            5       0.0       3   \n",
      "\n",
      "                                                  Name     Sex   Age  SibSp  \\\n",
      "0                              Braund, Mr. Owen Harris    male  22.0      1   \n",
      "1  Cumings, Mrs. John Bradley (Florence Briggs Thayer)  female  38.0      1   \n",
      "2                               Heikkinen, Miss. Laina  female  26.0      0   \n",
      "3         Futrelle, Mrs. Jacques Heath (Lily May Peel)  female  35.0      1   \n",
      "4                             Allen, Mr. William Henry    male  35.0      0   \n",
      "\n",
      "   Parch            Ticket     Fare Cabin Embarked  \n",
      "0      0         A/5 21171   7.2500   NaN        S  \n",
      "1      0          PC 17599  71.2833   C85        C  \n",
      "2      0  STON/O2. 3101282   7.9250   NaN        S  \n",
      "3      0            113803  53.1000  C123        S  \n",
      "4      0            373450   8.0500   NaN        S  \n"
     ]
    }
   ],
   "source": [
    "\"\"\"author Binny\"\"\"\n",
    "# 忽略警告提示\n",
    "import warnings\n",
    "warnings.filterwarnings('ignore')\n",
    "import sys\n",
    "# 导入处理数据包\n",
    "import pandas as pd\n",
    "import numpy as np\n",
    "\n",
    "train_data = pd.read_csv(r'D:\\pythonProject1\\ML_for_kaggle\\data\\titanic\\train.csv')\n",
    "test_data = pd.read_csv(r'D:\\pythonProject1\\ML_for_kaggle\\data\\titanic\\test.csv')\n",
    "full = train_data.append(test_data, ignore_index=True)\n",
    "print('训练集大小：', train_data.shape, '测试集大小：', test_data.shape)\n",
    "print('合并后的数据集大小：', full.shape)\n",
    "print('合并后的数据集前5行：\\n', full.head())"
   ],
   "metadata": {
    "collapsed": false,
    "ExecuteTime": {
     "end_time": "2023-09-03T12:15:38.237453200Z",
     "start_time": "2023-09-03T12:15:37.885254900Z"
    }
   },
   "id": "27458e6dfead90e2"
  },
  {
   "cell_type": "code",
   "execution_count": 113,
   "outputs": [
    {
     "data": {
      "text/plain": "       PassengerId    Survived       Pclass          Age        SibSp  \\\ncount  1309.000000  891.000000  1309.000000  1046.000000  1309.000000   \nmean    655.000000    0.383838     2.294882    29.881138     0.498854   \nstd     378.020061    0.486592     0.837836    14.413493     1.041658   \nmin       1.000000    0.000000     1.000000     0.170000     0.000000   \n25%     328.000000    0.000000     2.000000    21.000000     0.000000   \n50%     655.000000    0.000000     3.000000    28.000000     0.000000   \n75%     982.000000    1.000000     3.000000    39.000000     1.000000   \nmax    1309.000000    1.000000     3.000000    80.000000     8.000000   \n\n             Parch         Fare  \ncount  1309.000000  1308.000000  \nmean      0.385027    33.295479  \nstd       0.865560    51.758668  \nmin       0.000000     0.000000  \n25%       0.000000     7.895800  \n50%       0.000000    14.454200  \n75%       0.000000    31.275000  \nmax       9.000000   512.329200  ",
      "text/html": "<div>\n<style scoped>\n    .dataframe tbody tr th:only-of-type {\n        vertical-align: middle;\n    }\n\n    .dataframe tbody tr th {\n        vertical-align: top;\n    }\n\n    .dataframe thead th {\n        text-align: right;\n    }\n</style>\n<table border=\"1\" class=\"dataframe\">\n  <thead>\n    <tr style=\"text-align: right;\">\n      <th></th>\n      <th>PassengerId</th>\n      <th>Survived</th>\n      <th>Pclass</th>\n      <th>Age</th>\n      <th>SibSp</th>\n      <th>Parch</th>\n      <th>Fare</th>\n    </tr>\n  </thead>\n  <tbody>\n    <tr>\n      <th>count</th>\n      <td>1309.000000</td>\n      <td>891.000000</td>\n      <td>1309.000000</td>\n      <td>1046.000000</td>\n      <td>1309.000000</td>\n      <td>1309.000000</td>\n      <td>1308.000000</td>\n    </tr>\n    <tr>\n      <th>mean</th>\n      <td>655.000000</td>\n      <td>0.383838</td>\n      <td>2.294882</td>\n      <td>29.881138</td>\n      <td>0.498854</td>\n      <td>0.385027</td>\n      <td>33.295479</td>\n    </tr>\n    <tr>\n      <th>std</th>\n      <td>378.020061</td>\n      <td>0.486592</td>\n      <td>0.837836</td>\n      <td>14.413493</td>\n      <td>1.041658</td>\n      <td>0.865560</td>\n      <td>51.758668</td>\n    </tr>\n    <tr>\n      <th>min</th>\n      <td>1.000000</td>\n      <td>0.000000</td>\n      <td>1.000000</td>\n      <td>0.170000</td>\n      <td>0.000000</td>\n      <td>0.000000</td>\n      <td>0.000000</td>\n    </tr>\n    <tr>\n      <th>25%</th>\n      <td>328.000000</td>\n      <td>0.000000</td>\n      <td>2.000000</td>\n      <td>21.000000</td>\n      <td>0.000000</td>\n      <td>0.000000</td>\n      <td>7.895800</td>\n    </tr>\n    <tr>\n      <th>50%</th>\n      <td>655.000000</td>\n      <td>0.000000</td>\n      <td>3.000000</td>\n      <td>28.000000</td>\n      <td>0.000000</td>\n      <td>0.000000</td>\n      <td>14.454200</td>\n    </tr>\n    <tr>\n      <th>75%</th>\n      <td>982.000000</td>\n      <td>1.000000</td>\n      <td>3.000000</td>\n      <td>39.000000</td>\n      <td>1.000000</td>\n      <td>0.000000</td>\n      <td>31.275000</td>\n    </tr>\n    <tr>\n      <th>max</th>\n      <td>1309.000000</td>\n      <td>1.000000</td>\n      <td>3.000000</td>\n      <td>80.000000</td>\n      <td>8.000000</td>\n      <td>9.000000</td>\n      <td>512.329200</td>\n    </tr>\n  </tbody>\n</table>\n</div>"
     },
     "execution_count": 113,
     "metadata": {},
     "output_type": "execute_result"
    }
   ],
   "source": [
    "'''\n",
    "describe只能查看数据类型的描述统计信息，对于其他类型的数据不显示，比如字符串类型姓名（name），客舱号（Cabin）\n",
    "这很好理解，因为描述统计指标是计算数值，所以需要该列的数据类型是数据。\n",
    "Pandas Series.mean()函数返回给定Series对象中基础数据的平均值。\n",
    "'''\n",
    "# 获取数据类型列的描述统计信息\n",
    "full.describe()"
   ],
   "metadata": {
    "collapsed": false,
    "ExecuteTime": {
     "end_time": "2023-09-03T12:15:38.854464300Z",
     "start_time": "2023-09-03T12:15:37.903374600Z"
    }
   },
   "id": "9676c23023fd8622"
  },
  {
   "cell_type": "code",
   "execution_count": 114,
   "outputs": [
    {
     "name": "stdout",
     "output_type": "stream",
     "text": [
      "<class 'pandas.core.frame.DataFrame'>\n",
      "RangeIndex: 1309 entries, 0 to 1308\n",
      "Data columns (total 12 columns):\n",
      " #   Column       Non-Null Count  Dtype  \n",
      "---  ------       --------------  -----  \n",
      " 0   PassengerId  1309 non-null   int64  \n",
      " 1   Survived     891 non-null    float64\n",
      " 2   Pclass       1309 non-null   int64  \n",
      " 3   Name         1309 non-null   object \n",
      " 4   Sex          1309 non-null   object \n",
      " 5   Age          1046 non-null   float64\n",
      " 6   SibSp        1309 non-null   int64  \n",
      " 7   Parch        1309 non-null   int64  \n",
      " 8   Ticket       1309 non-null   object \n",
      " 9   Fare         1308 non-null   float64\n",
      " 10  Cabin        295 non-null    object \n",
      " 11  Embarked     1307 non-null   object \n",
      "dtypes: float64(3), int64(4), object(5)\n",
      "memory usage: 122.8+ KB\n"
     ]
    }
   ],
   "source": [
    "full.info()"
   ],
   "metadata": {
    "collapsed": false,
    "ExecuteTime": {
     "end_time": "2023-09-03T12:15:38.855478200Z",
     "start_time": "2023-09-03T12:15:37.941415700Z"
    }
   },
   "id": "a79ffc632706d388"
  },
  {
   "cell_type": "markdown",
   "source": [
    "我们发现数据一共有1309行,其中Survided只有891行,说明有418行数据没有标签,也就是我们要预测的数据\n",
    "Age(年龄)有1046行数据,说明有1309-1046=263行数据没有年龄,也就是说有263个乘客的年龄没有记录\n",
    "Fare(船票价格)有1308行数据,只有一个乘客没有记录\n",
    "Embarked(登船港口)有1307行数据,有两个乘客没有登船港口记录\n",
    "Cabin(客舱号)只有295行数据,有1007个乘客没有客舱号记录\n"
   ],
   "metadata": {
    "collapsed": false
   },
   "id": "6035373ce77dacbc"
  },
  {
   "cell_type": "code",
   "execution_count": 115,
   "outputs": [
    {
     "name": "stdout",
     "output_type": "stream",
     "text": [
      "\n",
      "缺失数据统计如下（总数 1309）：\n"
     ]
    },
    {
     "data": {
      "text/plain": "          缺失数据     缺失率     数据类型\nSurvived   418  0.3193  float64\nAge        263  0.2009  float64\nFare         1  0.0008  float64\nCabin     1014  0.7746   object\nEmbarked     2  0.0015   object",
      "text/html": "<div>\n<style scoped>\n    .dataframe tbody tr th:only-of-type {\n        vertical-align: middle;\n    }\n\n    .dataframe tbody tr th {\n        vertical-align: top;\n    }\n\n    .dataframe thead th {\n        text-align: right;\n    }\n</style>\n<table border=\"1\" class=\"dataframe\">\n  <thead>\n    <tr style=\"text-align: right;\">\n      <th></th>\n      <th>缺失数据</th>\n      <th>缺失率</th>\n      <th>数据类型</th>\n    </tr>\n  </thead>\n  <tbody>\n    <tr>\n      <th>Survived</th>\n      <td>418</td>\n      <td>0.3193</td>\n      <td>float64</td>\n    </tr>\n    <tr>\n      <th>Age</th>\n      <td>263</td>\n      <td>0.2009</td>\n      <td>float64</td>\n    </tr>\n    <tr>\n      <th>Fare</th>\n      <td>1</td>\n      <td>0.0008</td>\n      <td>float64</td>\n    </tr>\n    <tr>\n      <th>Cabin</th>\n      <td>1014</td>\n      <td>0.7746</td>\n      <td>object</td>\n    </tr>\n    <tr>\n      <th>Embarked</th>\n      <td>2</td>\n      <td>0.0015</td>\n      <td>object</td>\n    </tr>\n  </tbody>\n</table>\n</div>"
     },
     "execution_count": 115,
     "metadata": {},
     "output_type": "execute_result"
    }
   ],
   "source": [
    "def PrintMissing(your_dataframe): \n",
    "    \"\"\"\n",
    "    打印缺失数据统计信息\n",
    "    :param 表示数据集\n",
    "    :return: 返回一个新的dataframe，包含三列：'缺失数据'、'缺失率'、'数据类型'\n",
    "    \"\"\"\n",
    "    drop_sum = your_dataframe.isnull().sum() # 统计每列缺失值个数\n",
    "    drop_sum_not_zero = drop_sum[drop_sum > 0] # 只保留有缺失值的列\n",
    "    df1 = pd.DataFrame({'缺失数据': drop_sum_not_zero}) # 创建一个新的dataframe，列名为'缺失数据'\n",
    "    df2 = pd.DataFrame({'缺失率': drop_sum_not_zero/your_dataframe.shape[0]}) # 创建一个新的dataframe，列名为'缺失率'\n",
    "    keys = drop_sum_not_zero.to_dict() # 将drop_sum_not_zero转换为字典\n",
    "    df_dtypes = pd.DataFrame({'数据类型': {key: your_dataframe[key].dtype for key in keys}}) # 创建一个新的dataframe，列名为'数据类型'\n",
    "    new_df = pd.concat([df1, df2.round(4), df_dtypes], axis=1)\n",
    "    return new_df\n",
    "\n",
    "print()\n",
    "print('缺失数据统计如下（总数 %d）：' % full.shape[0])\n",
    "PrintMissing(full)"
   ],
   "metadata": {
    "collapsed": false,
    "ExecuteTime": {
     "end_time": "2023-09-03T12:15:38.855478200Z",
     "start_time": "2023-09-03T12:15:37.947428500Z"
    }
   },
   "id": "6c708c682fdd1777"
  },
  {
   "cell_type": "markdown",
   "source": [
    "# 数据清洗\n",
    "很多机器学习算法为了训练模型，要求所传入的特征中不能有空值。\n",
    "\n",
    "- 如果是数值类型，用平均值取代\n",
    "- 如果是分类数据，用最常见的类别取代\n",
    "- 使用模型预测缺失值，例如：K-NN"
   ],
   "metadata": {
    "collapsed": false
   },
   "id": "4b355a6405c7282f"
  },
  {
   "cell_type": "code",
   "execution_count": 116,
   "outputs": [
    {
     "name": "stdout",
     "output_type": "stream",
     "text": [
      "\n",
      "数值字段处理后：\n"
     ]
    },
    {
     "data": {
      "text/plain": "          缺失数据     缺失率     数据类型\nSurvived   418  0.3193  float64\nCabin     1014  0.7746   object\nEmbarked     2  0.0015   object",
      "text/html": "<div>\n<style scoped>\n    .dataframe tbody tr th:only-of-type {\n        vertical-align: middle;\n    }\n\n    .dataframe tbody tr th {\n        vertical-align: top;\n    }\n\n    .dataframe thead th {\n        text-align: right;\n    }\n</style>\n<table border=\"1\" class=\"dataframe\">\n  <thead>\n    <tr style=\"text-align: right;\">\n      <th></th>\n      <th>缺失数据</th>\n      <th>缺失率</th>\n      <th>数据类型</th>\n    </tr>\n  </thead>\n  <tbody>\n    <tr>\n      <th>Survived</th>\n      <td>418</td>\n      <td>0.3193</td>\n      <td>float64</td>\n    </tr>\n    <tr>\n      <th>Cabin</th>\n      <td>1014</td>\n      <td>0.7746</td>\n      <td>object</td>\n    </tr>\n    <tr>\n      <th>Embarked</th>\n      <td>2</td>\n      <td>0.0015</td>\n      <td>object</td>\n    </tr>\n  </tbody>\n</table>\n</div>"
     },
     "execution_count": 116,
     "metadata": {},
     "output_type": "execute_result"
    }
   ],
   "source": [
    "# 年龄(Age)\n",
    "full['Age'] = full['Age'].fillna(full['Age'].mean())\n",
    "# 船票价格(Fare)\n",
    "full['Fare'] = full['Fare'].fillna(full['Fare'].mean())\n",
    "print()\n",
    "print('数值字段处理后：')\n",
    "PrintMissing(full)"
   ],
   "metadata": {
    "collapsed": false,
    "ExecuteTime": {
     "end_time": "2023-09-03T12:15:38.857477200Z",
     "start_time": "2023-09-03T12:15:37.974397500Z"
    }
   },
   "id": "12a186d89c533522"
  },
  {
   "cell_type": "code",
   "execution_count": 117,
   "outputs": [
    {
     "data": {
      "text/plain": "   PassengerId  Survived  Pclass  \\\n0            1       0.0       3   \n1            2       1.0       1   \n2            3       1.0       3   \n3            4       1.0       1   \n4            5       0.0       3   \n\n                                                  Name     Sex   Age  SibSp  \\\n0                              Braund, Mr. Owen Harris    male  22.0      1   \n1  Cumings, Mrs. John Bradley (Florence Briggs Thayer)  female  38.0      1   \n2                               Heikkinen, Miss. Laina  female  26.0      0   \n3         Futrelle, Mrs. Jacques Heath (Lily May Peel)  female  35.0      1   \n4                             Allen, Mr. William Henry    male  35.0      0   \n\n   Parch            Ticket     Fare Cabin Embarked  \n0      0         A/5 21171   7.2500   NaN        S  \n1      0          PC 17599  71.2833   C85        C  \n2      0  STON/O2. 3101282   7.9250   NaN        S  \n3      0            113803  53.1000  C123        S  \n4      0            373450   8.0500   NaN        S  ",
      "text/html": "<div>\n<style scoped>\n    .dataframe tbody tr th:only-of-type {\n        vertical-align: middle;\n    }\n\n    .dataframe tbody tr th {\n        vertical-align: top;\n    }\n\n    .dataframe thead th {\n        text-align: right;\n    }\n</style>\n<table border=\"1\" class=\"dataframe\">\n  <thead>\n    <tr style=\"text-align: right;\">\n      <th></th>\n      <th>PassengerId</th>\n      <th>Survived</th>\n      <th>Pclass</th>\n      <th>Name</th>\n      <th>Sex</th>\n      <th>Age</th>\n      <th>SibSp</th>\n      <th>Parch</th>\n      <th>Ticket</th>\n      <th>Fare</th>\n      <th>Cabin</th>\n      <th>Embarked</th>\n    </tr>\n  </thead>\n  <tbody>\n    <tr>\n      <th>0</th>\n      <td>1</td>\n      <td>0.0</td>\n      <td>3</td>\n      <td>Braund, Mr. Owen Harris</td>\n      <td>male</td>\n      <td>22.0</td>\n      <td>1</td>\n      <td>0</td>\n      <td>A/5 21171</td>\n      <td>7.2500</td>\n      <td>NaN</td>\n      <td>S</td>\n    </tr>\n    <tr>\n      <th>1</th>\n      <td>2</td>\n      <td>1.0</td>\n      <td>1</td>\n      <td>Cumings, Mrs. John Bradley (Florence Briggs Thayer)</td>\n      <td>female</td>\n      <td>38.0</td>\n      <td>1</td>\n      <td>0</td>\n      <td>PC 17599</td>\n      <td>71.2833</td>\n      <td>C85</td>\n      <td>C</td>\n    </tr>\n    <tr>\n      <th>2</th>\n      <td>3</td>\n      <td>1.0</td>\n      <td>3</td>\n      <td>Heikkinen, Miss. Laina</td>\n      <td>female</td>\n      <td>26.0</td>\n      <td>0</td>\n      <td>0</td>\n      <td>STON/O2. 3101282</td>\n      <td>7.9250</td>\n      <td>NaN</td>\n      <td>S</td>\n    </tr>\n    <tr>\n      <th>3</th>\n      <td>4</td>\n      <td>1.0</td>\n      <td>1</td>\n      <td>Futrelle, Mrs. Jacques Heath (Lily May Peel)</td>\n      <td>female</td>\n      <td>35.0</td>\n      <td>1</td>\n      <td>0</td>\n      <td>113803</td>\n      <td>53.1000</td>\n      <td>C123</td>\n      <td>S</td>\n    </tr>\n    <tr>\n      <th>4</th>\n      <td>5</td>\n      <td>0.0</td>\n      <td>3</td>\n      <td>Allen, Mr. William Henry</td>\n      <td>male</td>\n      <td>35.0</td>\n      <td>0</td>\n      <td>0</td>\n      <td>373450</td>\n      <td>8.0500</td>\n      <td>NaN</td>\n      <td>S</td>\n    </tr>\n  </tbody>\n</table>\n</div>"
     },
     "execution_count": 117,
     "metadata": {},
     "output_type": "execute_result"
    }
   ],
   "source": [
    "full.head()"
   ],
   "metadata": {
    "collapsed": false,
    "ExecuteTime": {
     "end_time": "2023-09-03T12:15:38.858475900Z",
     "start_time": "2023-09-03T12:15:38.000561900Z"
    }
   },
   "id": "1d70f3343d5826d6"
  },
  {
   "cell_type": "code",
   "execution_count": 118,
   "outputs": [
    {
     "name": "stdout",
     "output_type": "stream",
     "text": [
      "Embarked ['S', 'C', 'Q', nan]\n"
     ]
    }
   ],
   "source": [
    "\"\"\"让我们看看登船港口的数据长什么样子\"\"\"\n",
    "print('Embarked',list(pd.unique(full['Embarked'])))"
   ],
   "metadata": {
    "collapsed": false,
    "ExecuteTime": {
     "end_time": "2023-09-03T12:15:38.872126900Z",
     "start_time": "2023-09-03T12:15:38.006572500Z"
    }
   },
   "id": "cbe0c3a9444ed424"
  },
  {
   "cell_type": "markdown",
   "source": [
    "出发地点：S=英国南安普顿Southampton\n",
    "途径地点1：C=法国 瑟堡市Cherbourg\n",
    "途径地点2：Q=爱尔兰 昆士敦Queenstown\n",
    "可以看出S港口的人数最多，占了72.4%，所以用S港口填充缺失值"
   ],
   "metadata": {
    "collapsed": false
   },
   "id": "d34e8b6598977292"
  },
  {
   "cell_type": "code",
   "execution_count": 119,
   "outputs": [
    {
     "data": {
      "text/plain": "S    914\nC    270\nQ    123\nName: Embarked, dtype: int64"
     },
     "execution_count": 119,
     "metadata": {},
     "output_type": "execute_result"
    }
   ],
   "source": [
    "'''\n",
    "分类变量Embarked，看下最常见的类别，用其填充\n",
    "'''\n",
    "full['Embarked'].value_counts()"
   ],
   "metadata": {
    "collapsed": false,
    "ExecuteTime": {
     "end_time": "2023-09-03T12:15:38.908677Z",
     "start_time": "2023-09-03T12:15:38.019550600Z"
    }
   },
   "id": "8b8535dba9b03724"
  },
  {
   "cell_type": "code",
   "execution_count": 120,
   "outputs": [
    {
     "data": {
      "text/plain": "0     NaN\n1     C85\n2     NaN\n3    C123\n4     NaN\nName: Cabin, dtype: object"
     },
     "execution_count": 120,
     "metadata": {},
     "output_type": "execute_result"
    }
   ],
   "source": [
    "full['Embarked'] = full['Embarked'].fillna('S')\n",
    "#船舱号（Cabin）：查看里面数据长啥样\n",
    "full[\"Cabin\"].head()"
   ],
   "metadata": {
    "collapsed": false,
    "ExecuteTime": {
     "end_time": "2023-09-03T12:15:38.909676100Z",
     "start_time": "2023-09-03T12:15:38.035557200Z"
    }
   },
   "id": "2565626fa0321369"
  },
  {
   "cell_type": "code",
   "execution_count": 121,
   "outputs": [
    {
     "data": {
      "text/plain": "   PassengerId  Survived  Pclass  \\\n0            1       0.0       3   \n1            2       1.0       1   \n2            3       1.0       3   \n3            4       1.0       1   \n4            5       0.0       3   \n\n                                                  Name     Sex   Age  SibSp  \\\n0                              Braund, Mr. Owen Harris    male  22.0      1   \n1  Cumings, Mrs. John Bradley (Florence Briggs Thayer)  female  38.0      1   \n2                               Heikkinen, Miss. Laina  female  26.0      0   \n3         Futrelle, Mrs. Jacques Heath (Lily May Peel)  female  35.0      1   \n4                             Allen, Mr. William Henry    male  35.0      0   \n\n   Parch            Ticket     Fare Cabin Embarked  \n0      0         A/5 21171   7.2500     U        S  \n1      0          PC 17599  71.2833   C85        C  \n2      0  STON/O2. 3101282   7.9250     U        S  \n3      0            113803  53.1000  C123        S  \n4      0            373450   8.0500     U        S  ",
      "text/html": "<div>\n<style scoped>\n    .dataframe tbody tr th:only-of-type {\n        vertical-align: middle;\n    }\n\n    .dataframe tbody tr th {\n        vertical-align: top;\n    }\n\n    .dataframe thead th {\n        text-align: right;\n    }\n</style>\n<table border=\"1\" class=\"dataframe\">\n  <thead>\n    <tr style=\"text-align: right;\">\n      <th></th>\n      <th>PassengerId</th>\n      <th>Survived</th>\n      <th>Pclass</th>\n      <th>Name</th>\n      <th>Sex</th>\n      <th>Age</th>\n      <th>SibSp</th>\n      <th>Parch</th>\n      <th>Ticket</th>\n      <th>Fare</th>\n      <th>Cabin</th>\n      <th>Embarked</th>\n    </tr>\n  </thead>\n  <tbody>\n    <tr>\n      <th>0</th>\n      <td>1</td>\n      <td>0.0</td>\n      <td>3</td>\n      <td>Braund, Mr. Owen Harris</td>\n      <td>male</td>\n      <td>22.0</td>\n      <td>1</td>\n      <td>0</td>\n      <td>A/5 21171</td>\n      <td>7.2500</td>\n      <td>U</td>\n      <td>S</td>\n    </tr>\n    <tr>\n      <th>1</th>\n      <td>2</td>\n      <td>1.0</td>\n      <td>1</td>\n      <td>Cumings, Mrs. John Bradley (Florence Briggs Thayer)</td>\n      <td>female</td>\n      <td>38.0</td>\n      <td>1</td>\n      <td>0</td>\n      <td>PC 17599</td>\n      <td>71.2833</td>\n      <td>C85</td>\n      <td>C</td>\n    </tr>\n    <tr>\n      <th>2</th>\n      <td>3</td>\n      <td>1.0</td>\n      <td>3</td>\n      <td>Heikkinen, Miss. Laina</td>\n      <td>female</td>\n      <td>26.0</td>\n      <td>0</td>\n      <td>0</td>\n      <td>STON/O2. 3101282</td>\n      <td>7.9250</td>\n      <td>U</td>\n      <td>S</td>\n    </tr>\n    <tr>\n      <th>3</th>\n      <td>4</td>\n      <td>1.0</td>\n      <td>1</td>\n      <td>Futrelle, Mrs. Jacques Heath (Lily May Peel)</td>\n      <td>female</td>\n      <td>35.0</td>\n      <td>1</td>\n      <td>0</td>\n      <td>113803</td>\n      <td>53.1000</td>\n      <td>C123</td>\n      <td>S</td>\n    </tr>\n    <tr>\n      <th>4</th>\n      <td>5</td>\n      <td>0.0</td>\n      <td>3</td>\n      <td>Allen, Mr. William Henry</td>\n      <td>male</td>\n      <td>35.0</td>\n      <td>0</td>\n      <td>0</td>\n      <td>373450</td>\n      <td>8.0500</td>\n      <td>U</td>\n      <td>S</td>\n    </tr>\n  </tbody>\n</table>\n</div>"
     },
     "execution_count": 121,
     "metadata": {},
     "output_type": "execute_result"
    }
   ],
   "source": [
    "#缺失数据比较多，船舱号（Cabin）缺失值填充为U，表示未知（Uknow） \n",
    "full[\"Cabin\"] = full[\"Cabin\"].fillna( 'U' )\n",
    "\n",
    "#检查数据处理是否正常\n",
    "full.head()"
   ],
   "metadata": {
    "collapsed": false,
    "ExecuteTime": {
     "end_time": "2023-09-03T12:15:38.910674300Z",
     "start_time": "2023-09-03T12:15:38.051548Z"
    }
   },
   "id": "f8a27b9253d4da20"
  },
  {
   "cell_type": "code",
   "execution_count": 122,
   "outputs": [
    {
     "data": {
      "text/plain": "          缺失数据     缺失率     数据类型\nSurvived   418  0.3193  float64",
      "text/html": "<div>\n<style scoped>\n    .dataframe tbody tr th:only-of-type {\n        vertical-align: middle;\n    }\n\n    .dataframe tbody tr th {\n        vertical-align: top;\n    }\n\n    .dataframe thead th {\n        text-align: right;\n    }\n</style>\n<table border=\"1\" class=\"dataframe\">\n  <thead>\n    <tr style=\"text-align: right;\">\n      <th></th>\n      <th>缺失数据</th>\n      <th>缺失率</th>\n      <th>数据类型</th>\n    </tr>\n  </thead>\n  <tbody>\n    <tr>\n      <th>Survived</th>\n      <td>418</td>\n      <td>0.3193</td>\n      <td>float64</td>\n    </tr>\n  </tbody>\n</table>\n</div>"
     },
     "execution_count": 122,
     "metadata": {},
     "output_type": "execute_result"
    }
   ],
   "source": [
    "#查看最终缺失值处理情况，记住生存情况（Survived）这里一列是我们的标签，用来做机器学习预测的，不需要处理这一列\n",
    "PrintMissing(full)"
   ],
   "metadata": {
    "collapsed": false,
    "ExecuteTime": {
     "end_time": "2023-09-03T12:15:38.911673600Z",
     "start_time": "2023-09-03T12:15:38.072519Z"
    }
   },
   "id": "f4109be6f550201e"
  },
  {
   "cell_type": "markdown",
   "source": [
    "# 特征提取\n",
    "'''\n",
    "1.数值类型：\n",
    "    乘客编号（PassengerId），\n",
    "    年龄（Age），\n",
    "    船票价格（Fare），\n",
    "    同代直系亲属人数（SibSp），\n",
    "    不同代直系亲属人数（Parch）\n",
    "2.时间序列：无\n",
    "3.分类数据：\n",
    "    1）有直接类别的\n",
    "        乘客性别（Sex）：男性（male），女性（female）\n",
    "        登船港口（Embarked）：\n",
    "            出发地点：S=英国.南安普顿（Southampton），\n",
    "            途径地点1：C=法国.瑟堡市（Cherbourg），\n",
    "            出发地点2：Q=爱尔兰.昆士敦（Queenstown）\n",
    "        客舱等级（Pclass）：1=1等舱，2=2等舱，3=3等舱\n",
    "    2）字符串类型：可能从这里面提取出特征来，也归到分类数据中\n",
    "        乘客姓名（Name）\n",
    "        船舱号（Cabin）\n",
    "        船票编号（Ticket）\n",
    "'''"
   ],
   "metadata": {
    "collapsed": false
   },
   "id": "d52f21dbde8908a3"
  },
  {
   "cell_type": "code",
   "execution_count": 123,
   "outputs": [
    {
     "data": {
      "text/plain": "0      male\n1    female\n2    female\n3    female\n4      male\nName: Sex, dtype: object"
     },
     "execution_count": 123,
     "metadata": {},
     "output_type": "execute_result"
    }
   ],
   "source": [
    "#查看性别数据这一列\n",
    "full[\"Sex\"].head()"
   ],
   "metadata": {
    "collapsed": false,
    "ExecuteTime": {
     "end_time": "2023-09-03T12:15:38.912673200Z",
     "start_time": "2023-09-03T12:15:38.088510600Z"
    }
   },
   "id": "f1a39bb3615657c8"
  },
  {
   "cell_type": "code",
   "execution_count": 124,
   "outputs": [
    {
     "data": {
      "text/plain": "   PassengerId  Survived  Pclass  \\\n0            1       0.0       3   \n1            2       1.0       1   \n2            3       1.0       3   \n3            4       1.0       1   \n4            5       0.0       3   \n\n                                                  Name  Sex   Age  SibSp  \\\n0                              Braund, Mr. Owen Harris    1  22.0      1   \n1  Cumings, Mrs. John Bradley (Florence Briggs Thayer)    0  38.0      1   \n2                               Heikkinen, Miss. Laina    0  26.0      0   \n3         Futrelle, Mrs. Jacques Heath (Lily May Peel)    0  35.0      1   \n4                             Allen, Mr. William Henry    1  35.0      0   \n\n   Parch            Ticket     Fare Cabin Embarked  \n0      0         A/5 21171   7.2500     U        S  \n1      0          PC 17599  71.2833   C85        C  \n2      0  STON/O2. 3101282   7.9250     U        S  \n3      0            113803  53.1000  C123        S  \n4      0            373450   8.0500     U        S  ",
      "text/html": "<div>\n<style scoped>\n    .dataframe tbody tr th:only-of-type {\n        vertical-align: middle;\n    }\n\n    .dataframe tbody tr th {\n        vertical-align: top;\n    }\n\n    .dataframe thead th {\n        text-align: right;\n    }\n</style>\n<table border=\"1\" class=\"dataframe\">\n  <thead>\n    <tr style=\"text-align: right;\">\n      <th></th>\n      <th>PassengerId</th>\n      <th>Survived</th>\n      <th>Pclass</th>\n      <th>Name</th>\n      <th>Sex</th>\n      <th>Age</th>\n      <th>SibSp</th>\n      <th>Parch</th>\n      <th>Ticket</th>\n      <th>Fare</th>\n      <th>Cabin</th>\n      <th>Embarked</th>\n    </tr>\n  </thead>\n  <tbody>\n    <tr>\n      <th>0</th>\n      <td>1</td>\n      <td>0.0</td>\n      <td>3</td>\n      <td>Braund, Mr. Owen Harris</td>\n      <td>1</td>\n      <td>22.0</td>\n      <td>1</td>\n      <td>0</td>\n      <td>A/5 21171</td>\n      <td>7.2500</td>\n      <td>U</td>\n      <td>S</td>\n    </tr>\n    <tr>\n      <th>1</th>\n      <td>2</td>\n      <td>1.0</td>\n      <td>1</td>\n      <td>Cumings, Mrs. John Bradley (Florence Briggs Thayer)</td>\n      <td>0</td>\n      <td>38.0</td>\n      <td>1</td>\n      <td>0</td>\n      <td>PC 17599</td>\n      <td>71.2833</td>\n      <td>C85</td>\n      <td>C</td>\n    </tr>\n    <tr>\n      <th>2</th>\n      <td>3</td>\n      <td>1.0</td>\n      <td>3</td>\n      <td>Heikkinen, Miss. Laina</td>\n      <td>0</td>\n      <td>26.0</td>\n      <td>0</td>\n      <td>0</td>\n      <td>STON/O2. 3101282</td>\n      <td>7.9250</td>\n      <td>U</td>\n      <td>S</td>\n    </tr>\n    <tr>\n      <th>3</th>\n      <td>4</td>\n      <td>1.0</td>\n      <td>1</td>\n      <td>Futrelle, Mrs. Jacques Heath (Lily May Peel)</td>\n      <td>0</td>\n      <td>35.0</td>\n      <td>1</td>\n      <td>0</td>\n      <td>113803</td>\n      <td>53.1000</td>\n      <td>C123</td>\n      <td>S</td>\n    </tr>\n    <tr>\n      <th>4</th>\n      <td>5</td>\n      <td>0.0</td>\n      <td>3</td>\n      <td>Allen, Mr. William Henry</td>\n      <td>1</td>\n      <td>35.0</td>\n      <td>0</td>\n      <td>0</td>\n      <td>373450</td>\n      <td>8.0500</td>\n      <td>U</td>\n      <td>S</td>\n    </tr>\n  </tbody>\n</table>\n</div>"
     },
     "execution_count": 124,
     "metadata": {},
     "output_type": "execute_result"
    }
   ],
   "source": [
    "\"\"\"\n",
    "将性别的值映射为数值\n",
    "male为1,female为0\n",
    "\"\"\"\n",
    "# 如果为male就改为1，如果不是就改为0\n",
    "sex_mapDict = {u'male': 1, u'female': 0}\n",
    "full['Sex'] = full['Sex'].map(sex_mapDict)\n",
    "full.head()"
   ],
   "metadata": {
    "collapsed": false,
    "ExecuteTime": {
     "end_time": "2023-09-03T12:15:38.925325500Z",
     "start_time": "2023-09-03T12:15:38.101520600Z"
    }
   },
   "id": "98dbcc19525c7238"
  },
  {
   "cell_type": "code",
   "execution_count": 125,
   "outputs": [
    {
     "data": {
      "text/plain": "   Embarked_C  Embarked_Q  Embarked_S\n0           0           0           1\n1           1           0           0\n2           0           0           1\n3           0           0           1\n4           0           0           1",
      "text/html": "<div>\n<style scoped>\n    .dataframe tbody tr th:only-of-type {\n        vertical-align: middle;\n    }\n\n    .dataframe tbody tr th {\n        vertical-align: top;\n    }\n\n    .dataframe thead th {\n        text-align: right;\n    }\n</style>\n<table border=\"1\" class=\"dataframe\">\n  <thead>\n    <tr style=\"text-align: right;\">\n      <th></th>\n      <th>Embarked_C</th>\n      <th>Embarked_Q</th>\n      <th>Embarked_S</th>\n    </tr>\n  </thead>\n  <tbody>\n    <tr>\n      <th>0</th>\n      <td>0</td>\n      <td>0</td>\n      <td>1</td>\n    </tr>\n    <tr>\n      <th>1</th>\n      <td>1</td>\n      <td>0</td>\n      <td>0</td>\n    </tr>\n    <tr>\n      <th>2</th>\n      <td>0</td>\n      <td>0</td>\n      <td>1</td>\n    </tr>\n    <tr>\n      <th>3</th>\n      <td>0</td>\n      <td>0</td>\n      <td>1</td>\n    </tr>\n    <tr>\n      <th>4</th>\n      <td>0</td>\n      <td>0</td>\n      <td>1</td>\n    </tr>\n  </tbody>\n</table>\n</div>"
     },
     "execution_count": 125,
     "metadata": {},
     "output_type": "execute_result"
    }
   ],
   "source": [
    "#存放提取后的特征\n",
    "embarkedDf = pd.DataFrame()\n",
    "\n",
    "'''\n",
    "使用get_dummies进行one-hot编码，产生虚拟变量（dummy variables），列名前缀是Embarked\n",
    "'''\n",
    "embarkedDf = pd.get_dummies( full[\"Embarked\"] , prefix=\"Embarked\" )\n",
    "embarkedDf.head()"
   ],
   "metadata": {
    "collapsed": false,
    "ExecuteTime": {
     "end_time": "2023-09-03T12:15:38.926340100Z",
     "start_time": "2023-09-03T12:15:38.136483500Z"
    }
   },
   "id": "91fa157659d8292e"
  },
  {
   "cell_type": "code",
   "execution_count": 126,
   "outputs": [
    {
     "data": {
      "text/plain": "   PassengerId  Survived  Pclass  \\\n0            1       0.0       3   \n1            2       1.0       1   \n2            3       1.0       3   \n3            4       1.0       1   \n4            5       0.0       3   \n\n                                                  Name  Sex   Age  SibSp  \\\n0                              Braund, Mr. Owen Harris    1  22.0      1   \n1  Cumings, Mrs. John Bradley (Florence Briggs Thayer)    0  38.0      1   \n2                               Heikkinen, Miss. Laina    0  26.0      0   \n3         Futrelle, Mrs. Jacques Heath (Lily May Peel)    0  35.0      1   \n4                             Allen, Mr. William Henry    1  35.0      0   \n\n   Parch            Ticket     Fare Cabin  Embarked_C  Embarked_Q  Embarked_S  \n0      0         A/5 21171   7.2500     U           0           0           1  \n1      0          PC 17599  71.2833   C85           1           0           0  \n2      0  STON/O2. 3101282   7.9250     U           0           0           1  \n3      0            113803  53.1000  C123           0           0           1  \n4      0            373450   8.0500     U           0           0           1  ",
      "text/html": "<div>\n<style scoped>\n    .dataframe tbody tr th:only-of-type {\n        vertical-align: middle;\n    }\n\n    .dataframe tbody tr th {\n        vertical-align: top;\n    }\n\n    .dataframe thead th {\n        text-align: right;\n    }\n</style>\n<table border=\"1\" class=\"dataframe\">\n  <thead>\n    <tr style=\"text-align: right;\">\n      <th></th>\n      <th>PassengerId</th>\n      <th>Survived</th>\n      <th>Pclass</th>\n      <th>Name</th>\n      <th>Sex</th>\n      <th>Age</th>\n      <th>SibSp</th>\n      <th>Parch</th>\n      <th>Ticket</th>\n      <th>Fare</th>\n      <th>Cabin</th>\n      <th>Embarked_C</th>\n      <th>Embarked_Q</th>\n      <th>Embarked_S</th>\n    </tr>\n  </thead>\n  <tbody>\n    <tr>\n      <th>0</th>\n      <td>1</td>\n      <td>0.0</td>\n      <td>3</td>\n      <td>Braund, Mr. Owen Harris</td>\n      <td>1</td>\n      <td>22.0</td>\n      <td>1</td>\n      <td>0</td>\n      <td>A/5 21171</td>\n      <td>7.2500</td>\n      <td>U</td>\n      <td>0</td>\n      <td>0</td>\n      <td>1</td>\n    </tr>\n    <tr>\n      <th>1</th>\n      <td>2</td>\n      <td>1.0</td>\n      <td>1</td>\n      <td>Cumings, Mrs. John Bradley (Florence Briggs Thayer)</td>\n      <td>0</td>\n      <td>38.0</td>\n      <td>1</td>\n      <td>0</td>\n      <td>PC 17599</td>\n      <td>71.2833</td>\n      <td>C85</td>\n      <td>1</td>\n      <td>0</td>\n      <td>0</td>\n    </tr>\n    <tr>\n      <th>2</th>\n      <td>3</td>\n      <td>1.0</td>\n      <td>3</td>\n      <td>Heikkinen, Miss. Laina</td>\n      <td>0</td>\n      <td>26.0</td>\n      <td>0</td>\n      <td>0</td>\n      <td>STON/O2. 3101282</td>\n      <td>7.9250</td>\n      <td>U</td>\n      <td>0</td>\n      <td>0</td>\n      <td>1</td>\n    </tr>\n    <tr>\n      <th>3</th>\n      <td>4</td>\n      <td>1.0</td>\n      <td>1</td>\n      <td>Futrelle, Mrs. Jacques Heath (Lily May Peel)</td>\n      <td>0</td>\n      <td>35.0</td>\n      <td>1</td>\n      <td>0</td>\n      <td>113803</td>\n      <td>53.1000</td>\n      <td>C123</td>\n      <td>0</td>\n      <td>0</td>\n      <td>1</td>\n    </tr>\n    <tr>\n      <th>4</th>\n      <td>5</td>\n      <td>0.0</td>\n      <td>3</td>\n      <td>Allen, Mr. William Henry</td>\n      <td>1</td>\n      <td>35.0</td>\n      <td>0</td>\n      <td>0</td>\n      <td>373450</td>\n      <td>8.0500</td>\n      <td>U</td>\n      <td>0</td>\n      <td>0</td>\n      <td>1</td>\n    </tr>\n  </tbody>\n</table>\n</div>"
     },
     "execution_count": 126,
     "metadata": {},
     "output_type": "execute_result"
    }
   ],
   "source": [
    "# 添加one-hot编码产生的虚拟变量（dummy variables）到泰坦尼克号数据集full\n",
    "full = pd.concat([full, embarkedDf], axis=1)\n",
    "\n",
    "'''\n",
    "因为已经使用登船港口(Embarked)进行了one-hot编码产生了它的虚拟变量（dummy variables）\n",
    "所以这里把登船港口(Embarked)删掉\n",
    "'''\n",
    "full.drop(\"Embarked\", axis=1, inplace=True)\n",
    "full.head()\n",
    "\n",
    "# 上面drop删除某一列代码解释：\n",
    "# 因为drop(name,axis=1)里面指定了name是哪一列，比如指定的是A这一列，axis=1表示按行操作。\n",
    "# 那么结合起来就是把A列里面每一行删除，最终结果是删除了A这一列.\n",
    "# 简单来说，使用drop删除某几列的方法记住这个语法就可以了：drop([列名1,列名2],axis=1)"
   ],
   "metadata": {
    "collapsed": false,
    "ExecuteTime": {
     "end_time": "2023-09-03T12:15:38.927339700Z",
     "start_time": "2023-09-03T12:15:38.143478700Z"
    }
   },
   "id": "9cebbae1caf9e968"
  },
  {
   "cell_type": "code",
   "execution_count": 127,
   "outputs": [
    {
     "data": {
      "text/plain": "   Pclass_1  Pclass_2  Pclass_3\n0         0         0         1\n1         1         0         0\n2         0         0         1\n3         1         0         0\n4         0         0         1",
      "text/html": "<div>\n<style scoped>\n    .dataframe tbody tr th:only-of-type {\n        vertical-align: middle;\n    }\n\n    .dataframe tbody tr th {\n        vertical-align: top;\n    }\n\n    .dataframe thead th {\n        text-align: right;\n    }\n</style>\n<table border=\"1\" class=\"dataframe\">\n  <thead>\n    <tr style=\"text-align: right;\">\n      <th></th>\n      <th>Pclass_1</th>\n      <th>Pclass_2</th>\n      <th>Pclass_3</th>\n    </tr>\n  </thead>\n  <tbody>\n    <tr>\n      <th>0</th>\n      <td>0</td>\n      <td>0</td>\n      <td>1</td>\n    </tr>\n    <tr>\n      <th>1</th>\n      <td>1</td>\n      <td>0</td>\n      <td>0</td>\n    </tr>\n    <tr>\n      <th>2</th>\n      <td>0</td>\n      <td>0</td>\n      <td>1</td>\n    </tr>\n    <tr>\n      <th>3</th>\n      <td>1</td>\n      <td>0</td>\n      <td>0</td>\n    </tr>\n    <tr>\n      <th>4</th>\n      <td>0</td>\n      <td>0</td>\n      <td>1</td>\n    </tr>\n  </tbody>\n</table>\n</div>"
     },
     "execution_count": 127,
     "metadata": {},
     "output_type": "execute_result"
    }
   ],
   "source": [
    "'''\n",
    "客舱等级(Pclass):\n",
    "1=1等舱，2=2等舱，3=3等舱\n",
    "'''\n",
    "# 存放提取后的特征\n",
    "pclassDf = pd.DataFrame()\n",
    "\n",
    "# 使用get_dummies进行one-hot编码，列名前缀是Pclass\n",
    "pclassDf = pd.get_dummies(full[\"Pclass\"], prefix=\"Pclass\")\n",
    "pclassDf.head()"
   ],
   "metadata": {
    "collapsed": false,
    "ExecuteTime": {
     "end_time": "2023-09-03T12:15:38.927339700Z",
     "start_time": "2023-09-03T12:15:38.166466200Z"
    }
   },
   "id": "82f518c294b80098"
  },
  {
   "cell_type": "code",
   "execution_count": 128,
   "outputs": [
    {
     "data": {
      "text/plain": "   PassengerId  Survived                                                 Name  \\\n0            1       0.0                              Braund, Mr. Owen Harris   \n1            2       1.0  Cumings, Mrs. John Bradley (Florence Briggs Thayer)   \n2            3       1.0                               Heikkinen, Miss. Laina   \n3            4       1.0         Futrelle, Mrs. Jacques Heath (Lily May Peel)   \n4            5       0.0                             Allen, Mr. William Henry   \n\n   Sex   Age  SibSp  Parch            Ticket     Fare Cabin  Embarked_C  \\\n0    1  22.0      1      0         A/5 21171   7.2500     U           0   \n1    0  38.0      1      0          PC 17599  71.2833   C85           1   \n2    0  26.0      0      0  STON/O2. 3101282   7.9250     U           0   \n3    0  35.0      1      0            113803  53.1000  C123           0   \n4    1  35.0      0      0            373450   8.0500     U           0   \n\n   Embarked_Q  Embarked_S  Pclass_1  Pclass_2  Pclass_3  \n0           0           1         0         0         1  \n1           0           0         1         0         0  \n2           0           1         0         0         1  \n3           0           1         1         0         0  \n4           0           1         0         0         1  ",
      "text/html": "<div>\n<style scoped>\n    .dataframe tbody tr th:only-of-type {\n        vertical-align: middle;\n    }\n\n    .dataframe tbody tr th {\n        vertical-align: top;\n    }\n\n    .dataframe thead th {\n        text-align: right;\n    }\n</style>\n<table border=\"1\" class=\"dataframe\">\n  <thead>\n    <tr style=\"text-align: right;\">\n      <th></th>\n      <th>PassengerId</th>\n      <th>Survived</th>\n      <th>Name</th>\n      <th>Sex</th>\n      <th>Age</th>\n      <th>SibSp</th>\n      <th>Parch</th>\n      <th>Ticket</th>\n      <th>Fare</th>\n      <th>Cabin</th>\n      <th>Embarked_C</th>\n      <th>Embarked_Q</th>\n      <th>Embarked_S</th>\n      <th>Pclass_1</th>\n      <th>Pclass_2</th>\n      <th>Pclass_3</th>\n    </tr>\n  </thead>\n  <tbody>\n    <tr>\n      <th>0</th>\n      <td>1</td>\n      <td>0.0</td>\n      <td>Braund, Mr. Owen Harris</td>\n      <td>1</td>\n      <td>22.0</td>\n      <td>1</td>\n      <td>0</td>\n      <td>A/5 21171</td>\n      <td>7.2500</td>\n      <td>U</td>\n      <td>0</td>\n      <td>0</td>\n      <td>1</td>\n      <td>0</td>\n      <td>0</td>\n      <td>1</td>\n    </tr>\n    <tr>\n      <th>1</th>\n      <td>2</td>\n      <td>1.0</td>\n      <td>Cumings, Mrs. John Bradley (Florence Briggs Thayer)</td>\n      <td>0</td>\n      <td>38.0</td>\n      <td>1</td>\n      <td>0</td>\n      <td>PC 17599</td>\n      <td>71.2833</td>\n      <td>C85</td>\n      <td>1</td>\n      <td>0</td>\n      <td>0</td>\n      <td>1</td>\n      <td>0</td>\n      <td>0</td>\n    </tr>\n    <tr>\n      <th>2</th>\n      <td>3</td>\n      <td>1.0</td>\n      <td>Heikkinen, Miss. Laina</td>\n      <td>0</td>\n      <td>26.0</td>\n      <td>0</td>\n      <td>0</td>\n      <td>STON/O2. 3101282</td>\n      <td>7.9250</td>\n      <td>U</td>\n      <td>0</td>\n      <td>0</td>\n      <td>1</td>\n      <td>0</td>\n      <td>0</td>\n      <td>1</td>\n    </tr>\n    <tr>\n      <th>3</th>\n      <td>4</td>\n      <td>1.0</td>\n      <td>Futrelle, Mrs. Jacques Heath (Lily May Peel)</td>\n      <td>0</td>\n      <td>35.0</td>\n      <td>1</td>\n      <td>0</td>\n      <td>113803</td>\n      <td>53.1000</td>\n      <td>C123</td>\n      <td>0</td>\n      <td>0</td>\n      <td>1</td>\n      <td>1</td>\n      <td>0</td>\n      <td>0</td>\n    </tr>\n    <tr>\n      <th>4</th>\n      <td>5</td>\n      <td>0.0</td>\n      <td>Allen, Mr. William Henry</td>\n      <td>1</td>\n      <td>35.0</td>\n      <td>0</td>\n      <td>0</td>\n      <td>373450</td>\n      <td>8.0500</td>\n      <td>U</td>\n      <td>0</td>\n      <td>0</td>\n      <td>1</td>\n      <td>0</td>\n      <td>0</td>\n      <td>1</td>\n    </tr>\n  </tbody>\n</table>\n</div>"
     },
     "execution_count": 128,
     "metadata": {},
     "output_type": "execute_result"
    }
   ],
   "source": [
    "# 添加one-hot编码产生的虚拟变量（dummy variables）到泰坦尼克号数据集full\n",
    "full = pd.concat([full, pclassDf], axis=1)\n",
    "\n",
    "# 删掉客舱等级（Pclass）这一列\n",
    "full.drop(\"Pclass\", axis=1, inplace=True)\n",
    "full.head()"
   ],
   "metadata": {
    "collapsed": false,
    "ExecuteTime": {
     "end_time": "2023-09-03T12:15:38.928339600Z",
     "start_time": "2023-09-03T12:15:38.174478Z"
    }
   },
   "id": "a0963d23d553c62f"
  },
  {
   "cell_type": "code",
   "execution_count": 129,
   "outputs": [
    {
     "data": {
      "text/plain": "0                                Braund, Mr. Owen Harris\n1    Cumings, Mrs. John Bradley (Florence Briggs Thayer)\n2                                 Heikkinen, Miss. Laina\n3           Futrelle, Mrs. Jacques Heath (Lily May Peel)\n4                               Allen, Mr. William Henry\nName: Name, dtype: object"
     },
     "execution_count": 129,
     "metadata": {},
     "output_type": "execute_result"
    }
   ],
   "source": [
    "'''\n",
    "查看姓名这一列长啥样\n",
    "注意到在乘客名字（Name）中，有一个非常显著的特点：\n",
    "乘客头衔每个名字当中都包含了具体的称谓或者说是头衔，将这部分信息提取出来后可以作为非常有用一个新变量，可以帮助我们进行预测。\n",
    "例如：\n",
    "    Braund, Mr. Owen Harris\n",
    "    Heikkinen, Miss. Laina\n",
    "    Oliva y Ocana, Dona. Fermina\n",
    "    Peter, Master. Michael J\n",
    "'''\n",
    "full[\"Name\"].head()"
   ],
   "metadata": {
    "collapsed": false,
    "ExecuteTime": {
     "end_time": "2023-09-03T12:15:38.928339600Z",
     "start_time": "2023-09-03T12:15:38.207443Z"
    }
   },
   "id": "863a47ecbe7519dd"
  },
  {
   "cell_type": "code",
   "execution_count": 130,
   "outputs": [
    {
     "name": "stdout",
     "output_type": "stream",
     "text": [
      "Mr\n"
     ]
    }
   ],
   "source": [
    "# 练习从字符串中提取头衔，例如Mr\n",
    "# split用于字符串分割，返回一个列表\n",
    "# 我们看到姓名中'Braund, Mr. Owen Harris'，逗号前面的是“名”，逗号后面是‘头衔. 姓’\n",
    "name1 = 'Braund, Mr. Owen Harris'\n",
    "'''\n",
    "split用于字符串按分隔符分割，返回一个列表。这里按逗号分隔字符串\n",
    "也就是字符串'Braund, Mr. Owen Harris'被按分隔符,'拆分成两部分[Braund,Mr. Owen Harris]\n",
    "你可以把返回的列表打印出来瞧瞧，这里获取到列表中元素序号为1的元素，也就是获取到头衔所在的那部分，即Mr. Owen Harris这部分\n",
    "'''\n",
    "# Mr. Owen Harris\n",
    "str1 = name1.split(',')[1]\n",
    "'''\n",
    "继续对字符串Mr. Owen Harris按分隔符'.'拆分，得到这样一个列表[Mr, Owen Harris]\n",
    "这里获取到列表中元素序号为0的元素，也就是获取到头衔所在的那部分Mr\n",
    "'''\n",
    "# Mr.\n",
    "str2 = str1.split('.')[0]\n",
    "# strip() 方法用于移除字符串头尾指定的字符（默认为空格）\n",
    "str3 = str2.strip()\n",
    "print(str3)"
   ],
   "metadata": {
    "collapsed": false,
    "ExecuteTime": {
     "end_time": "2023-09-03T12:15:38.929325600Z",
     "start_time": "2023-09-03T12:15:38.220435500Z"
    }
   },
   "id": "ae3e7a2f2e958538"
  },
  {
   "cell_type": "code",
   "execution_count": 131,
   "outputs": [
    {
     "data": {
      "text/plain": "        Name\n0         Mr\n1        Mrs\n2       Miss\n3        Mrs\n4         Mr\n...      ...\n1304      Mr\n1305    Dona\n1306      Mr\n1307      Mr\n1308  Master\n\n[1309 rows x 1 columns]",
      "text/html": "<div>\n<style scoped>\n    .dataframe tbody tr th:only-of-type {\n        vertical-align: middle;\n    }\n\n    .dataframe tbody tr th {\n        vertical-align: top;\n    }\n\n    .dataframe thead th {\n        text-align: right;\n    }\n</style>\n<table border=\"1\" class=\"dataframe\">\n  <thead>\n    <tr style=\"text-align: right;\">\n      <th></th>\n      <th>Name</th>\n    </tr>\n  </thead>\n  <tbody>\n    <tr>\n      <th>0</th>\n      <td>Mr</td>\n    </tr>\n    <tr>\n      <th>1</th>\n      <td>Mrs</td>\n    </tr>\n    <tr>\n      <th>2</th>\n      <td>Miss</td>\n    </tr>\n    <tr>\n      <th>3</th>\n      <td>Mrs</td>\n    </tr>\n    <tr>\n      <th>4</th>\n      <td>Mr</td>\n    </tr>\n    <tr>\n      <th>...</th>\n      <td>...</td>\n    </tr>\n    <tr>\n      <th>1304</th>\n      <td>Mr</td>\n    </tr>\n    <tr>\n      <th>1305</th>\n      <td>Dona</td>\n    </tr>\n    <tr>\n      <th>1306</th>\n      <td>Mr</td>\n    </tr>\n    <tr>\n      <th>1307</th>\n      <td>Mr</td>\n    </tr>\n    <tr>\n      <th>1308</th>\n      <td>Master</td>\n    </tr>\n  </tbody>\n</table>\n<p>1309 rows × 1 columns</p>\n</div>"
     },
     "execution_count": 131,
     "metadata": {},
     "output_type": "execute_result"
    }
   ],
   "source": [
    "'''\n",
    "定义函数：从姓名中获取头衔\n",
    "'''\n",
    "def getTitle(name):\n",
    "    str1 = name.split(',')[1]  # Mr. Owen Harris\n",
    "    str2 = str1.split('.')[0]  # Mr\n",
    "    # strip() 方法用于移除字符串头尾指定的字符（默认为空格）\n",
    "    str3 = str2.strip()\n",
    "    return str3\n",
    "# 存放提取后的特征\n",
    "titleDf = pd.DataFrame()\n",
    "# map函数：对Series每个数据应用自定义的函数计算\n",
    "titleDf[\"Name\"] = full[\"Name\"].map(getTitle)\n",
    "titleDf"
   ],
   "metadata": {
    "collapsed": false,
    "ExecuteTime": {
     "end_time": "2023-09-03T12:15:38.940855300Z",
     "start_time": "2023-09-03T12:15:38.231429100Z"
    }
   },
   "id": "4d2d851758dfae5e"
  },
  {
   "cell_type": "code",
   "execution_count": 132,
   "outputs": [
    {
     "name": "stdout",
     "output_type": "stream",
     "text": [
      "Title ['Mr', 'Mrs', 'Miss', 'Master', 'Royalty', 'Officer']\n"
     ]
    },
    {
     "data": {
      "text/plain": "   Master  Miss  Mr  Mrs  Officer  Royalty\n0       0     0   1    0        0        0\n1       0     0   0    1        0        0\n2       0     1   0    0        0        0\n3       0     0   0    1        0        0\n4       0     0   1    0        0        0",
      "text/html": "<div>\n<style scoped>\n    .dataframe tbody tr th:only-of-type {\n        vertical-align: middle;\n    }\n\n    .dataframe tbody tr th {\n        vertical-align: top;\n    }\n\n    .dataframe thead th {\n        text-align: right;\n    }\n</style>\n<table border=\"1\" class=\"dataframe\">\n  <thead>\n    <tr style=\"text-align: right;\">\n      <th></th>\n      <th>Master</th>\n      <th>Miss</th>\n      <th>Mr</th>\n      <th>Mrs</th>\n      <th>Officer</th>\n      <th>Royalty</th>\n    </tr>\n  </thead>\n  <tbody>\n    <tr>\n      <th>0</th>\n      <td>0</td>\n      <td>0</td>\n      <td>1</td>\n      <td>0</td>\n      <td>0</td>\n      <td>0</td>\n    </tr>\n    <tr>\n      <th>1</th>\n      <td>0</td>\n      <td>0</td>\n      <td>0</td>\n      <td>1</td>\n      <td>0</td>\n      <td>0</td>\n    </tr>\n    <tr>\n      <th>2</th>\n      <td>0</td>\n      <td>1</td>\n      <td>0</td>\n      <td>0</td>\n      <td>0</td>\n      <td>0</td>\n    </tr>\n    <tr>\n      <th>3</th>\n      <td>0</td>\n      <td>0</td>\n      <td>0</td>\n      <td>1</td>\n      <td>0</td>\n      <td>0</td>\n    </tr>\n    <tr>\n      <th>4</th>\n      <td>0</td>\n      <td>0</td>\n      <td>1</td>\n      <td>0</td>\n      <td>0</td>\n      <td>0</td>\n    </tr>\n  </tbody>\n</table>\n</div>"
     },
     "execution_count": 132,
     "metadata": {},
     "output_type": "execute_result"
    }
   ],
   "source": [
    "'''\n",
    "定义以下几种头衔类别：\n",
    "    Officer：政府官员\n",
    "    Royalty：王室（皇室）\n",
    "    Mr：已婚男士\n",
    "    Mrs：已婚妇女\n",
    "    Miss：年轻未婚女子\n",
    "    Master：有技能的人/教师\n",
    "'''\n",
    "# 姓名中头衔字符串与定义头衔类别的映射关系\n",
    "title_mapDict = {\n",
    "    \"Capt\":       \"Officer\",\n",
    "    \"Col\":        \"Officer\",\n",
    "    \"Major\":      \"Officer\",\n",
    "    \"Jonkheer\":   \"Royalty\",\n",
    "    \"Don\":        \"Royalty\",\n",
    "    \"Sir\":        \"Royalty\",\n",
    "    \"Dr\":         \"Officer\",\n",
    "    \"Rev\":        \"Officer\",\n",
    "    \"the Countess\": \"Royalty\",\n",
    "    \"Dona\":       \"Royalty\",\n",
    "    \"Mme\":        \"Mrs\",\n",
    "    \"Mlle\":       \"Miss\",\n",
    "    \"Ms\":         \"Mrs\",\n",
    "    \"Mr\":         \"Mr\",\n",
    "    \"Mrs\":        \"Mrs\",\n",
    "    \"Miss\":       \"Miss\",\n",
    "    \"Master\":     \"Master\",\n",
    "    \"Lady\":       \"Royalty\"\n",
    "}\n",
    "# map函数：对Series每个数据应用自定义的函数计算\n",
    "titleDf[\"Title\"] = titleDf[\"Name\"].map(title_mapDict)\n",
    "titleDf.head()\n",
    "# 删除Name这一列\n",
    "titleDf.drop(\"Name\", axis=1, inplace=True)\n",
    "print(\"Title\", list(pd.unique(titleDf[\"Title\"])))\n",
    "# 使用get_dummies进行one-hot编码\n",
    "titleDf = pd.get_dummies(titleDf[\"Title\"])\n",
    "titleDf.head()"
   ],
   "metadata": {
    "collapsed": false,
    "ExecuteTime": {
     "end_time": "2023-09-03T12:15:39.142265100Z",
     "start_time": "2023-09-03T12:15:38.254416100Z"
    }
   },
   "id": "da9ac9fc70ccdc1b"
  },
  {
   "cell_type": "code",
   "execution_count": 133,
   "outputs": [
    {
     "data": {
      "text/plain": "   PassengerId  Survived  Sex   Age  SibSp  Parch            Ticket     Fare  \\\n0            1       0.0    1  22.0      1      0         A/5 21171   7.2500   \n1            2       1.0    0  38.0      1      0          PC 17599  71.2833   \n2            3       1.0    0  26.0      0      0  STON/O2. 3101282   7.9250   \n3            4       1.0    0  35.0      1      0            113803  53.1000   \n4            5       0.0    1  35.0      0      0            373450   8.0500   \n\n  Cabin  Embarked_C  ...  Embarked_S  Pclass_1  Pclass_2  Pclass_3  Master  \\\n0     U           0  ...           1         0         0         1       0   \n1   C85           1  ...           0         1         0         0       0   \n2     U           0  ...           1         0         0         1       0   \n3  C123           0  ...           1         1         0         0       0   \n4     U           0  ...           1         0         0         1       0   \n\n   Miss  Mr  Mrs  Officer  Royalty  \n0     0   1    0        0        0  \n1     0   0    1        0        0  \n2     1   0    0        0        0  \n3     0   0    1        0        0  \n4     0   1    0        0        0  \n\n[5 rows x 21 columns]",
      "text/html": "<div>\n<style scoped>\n    .dataframe tbody tr th:only-of-type {\n        vertical-align: middle;\n    }\n\n    .dataframe tbody tr th {\n        vertical-align: top;\n    }\n\n    .dataframe thead th {\n        text-align: right;\n    }\n</style>\n<table border=\"1\" class=\"dataframe\">\n  <thead>\n    <tr style=\"text-align: right;\">\n      <th></th>\n      <th>PassengerId</th>\n      <th>Survived</th>\n      <th>Sex</th>\n      <th>Age</th>\n      <th>SibSp</th>\n      <th>Parch</th>\n      <th>Ticket</th>\n      <th>Fare</th>\n      <th>Cabin</th>\n      <th>Embarked_C</th>\n      <th>...</th>\n      <th>Embarked_S</th>\n      <th>Pclass_1</th>\n      <th>Pclass_2</th>\n      <th>Pclass_3</th>\n      <th>Master</th>\n      <th>Miss</th>\n      <th>Mr</th>\n      <th>Mrs</th>\n      <th>Officer</th>\n      <th>Royalty</th>\n    </tr>\n  </thead>\n  <tbody>\n    <tr>\n      <th>0</th>\n      <td>1</td>\n      <td>0.0</td>\n      <td>1</td>\n      <td>22.0</td>\n      <td>1</td>\n      <td>0</td>\n      <td>A/5 21171</td>\n      <td>7.2500</td>\n      <td>U</td>\n      <td>0</td>\n      <td>...</td>\n      <td>1</td>\n      <td>0</td>\n      <td>0</td>\n      <td>1</td>\n      <td>0</td>\n      <td>0</td>\n      <td>1</td>\n      <td>0</td>\n      <td>0</td>\n      <td>0</td>\n    </tr>\n    <tr>\n      <th>1</th>\n      <td>2</td>\n      <td>1.0</td>\n      <td>0</td>\n      <td>38.0</td>\n      <td>1</td>\n      <td>0</td>\n      <td>PC 17599</td>\n      <td>71.2833</td>\n      <td>C85</td>\n      <td>1</td>\n      <td>...</td>\n      <td>0</td>\n      <td>1</td>\n      <td>0</td>\n      <td>0</td>\n      <td>0</td>\n      <td>0</td>\n      <td>0</td>\n      <td>1</td>\n      <td>0</td>\n      <td>0</td>\n    </tr>\n    <tr>\n      <th>2</th>\n      <td>3</td>\n      <td>1.0</td>\n      <td>0</td>\n      <td>26.0</td>\n      <td>0</td>\n      <td>0</td>\n      <td>STON/O2. 3101282</td>\n      <td>7.9250</td>\n      <td>U</td>\n      <td>0</td>\n      <td>...</td>\n      <td>1</td>\n      <td>0</td>\n      <td>0</td>\n      <td>1</td>\n      <td>0</td>\n      <td>1</td>\n      <td>0</td>\n      <td>0</td>\n      <td>0</td>\n      <td>0</td>\n    </tr>\n    <tr>\n      <th>3</th>\n      <td>4</td>\n      <td>1.0</td>\n      <td>0</td>\n      <td>35.0</td>\n      <td>1</td>\n      <td>0</td>\n      <td>113803</td>\n      <td>53.1000</td>\n      <td>C123</td>\n      <td>0</td>\n      <td>...</td>\n      <td>1</td>\n      <td>1</td>\n      <td>0</td>\n      <td>0</td>\n      <td>0</td>\n      <td>0</td>\n      <td>0</td>\n      <td>1</td>\n      <td>0</td>\n      <td>0</td>\n    </tr>\n    <tr>\n      <th>4</th>\n      <td>5</td>\n      <td>0.0</td>\n      <td>1</td>\n      <td>35.0</td>\n      <td>0</td>\n      <td>0</td>\n      <td>373450</td>\n      <td>8.0500</td>\n      <td>U</td>\n      <td>0</td>\n      <td>...</td>\n      <td>1</td>\n      <td>0</td>\n      <td>0</td>\n      <td>1</td>\n      <td>0</td>\n      <td>0</td>\n      <td>1</td>\n      <td>0</td>\n      <td>0</td>\n      <td>0</td>\n    </tr>\n  </tbody>\n</table>\n<p>5 rows × 21 columns</p>\n</div>"
     },
     "execution_count": 133,
     "metadata": {},
     "output_type": "execute_result"
    }
   ],
   "source": [
    "# 添加one-hot编码产生的虚拟变量（dummy variables）到泰坦尼克号数据集full\n",
    "full = pd.concat([full, titleDf], axis=1)\n",
    "\n",
    "# 删掉姓名这一列\n",
    "full.drop(\"Name\", axis=1, inplace=True)\n",
    "full.head()"
   ],
   "metadata": {
    "collapsed": false,
    "ExecuteTime": {
     "end_time": "2023-09-03T12:15:39.145263100Z",
     "start_time": "2023-09-03T12:15:38.272407200Z"
    }
   },
   "id": "d05b7a41d5c4d191"
  },
  {
   "cell_type": "code",
   "execution_count": 134,
   "outputs": [
    {
     "data": {
      "text/plain": "   Cabin_A  Cabin_B  Cabin_C  Cabin_D  Cabin_E  Cabin_F  Cabin_G  Cabin_T  \\\n0        0        0        0        0        0        0        0        0   \n1        0        0        1        0        0        0        0        0   \n2        0        0        0        0        0        0        0        0   \n3        0        0        1        0        0        0        0        0   \n4        0        0        0        0        0        0        0        0   \n\n   Cabin_U  \n0        1  \n1        0  \n2        1  \n3        0  \n4        1  ",
      "text/html": "<div>\n<style scoped>\n    .dataframe tbody tr th:only-of-type {\n        vertical-align: middle;\n    }\n\n    .dataframe tbody tr th {\n        vertical-align: top;\n    }\n\n    .dataframe thead th {\n        text-align: right;\n    }\n</style>\n<table border=\"1\" class=\"dataframe\">\n  <thead>\n    <tr style=\"text-align: right;\">\n      <th></th>\n      <th>Cabin_A</th>\n      <th>Cabin_B</th>\n      <th>Cabin_C</th>\n      <th>Cabin_D</th>\n      <th>Cabin_E</th>\n      <th>Cabin_F</th>\n      <th>Cabin_G</th>\n      <th>Cabin_T</th>\n      <th>Cabin_U</th>\n    </tr>\n  </thead>\n  <tbody>\n    <tr>\n      <th>0</th>\n      <td>0</td>\n      <td>0</td>\n      <td>0</td>\n      <td>0</td>\n      <td>0</td>\n      <td>0</td>\n      <td>0</td>\n      <td>0</td>\n      <td>1</td>\n    </tr>\n    <tr>\n      <th>1</th>\n      <td>0</td>\n      <td>0</td>\n      <td>1</td>\n      <td>0</td>\n      <td>0</td>\n      <td>0</td>\n      <td>0</td>\n      <td>0</td>\n      <td>0</td>\n    </tr>\n    <tr>\n      <th>2</th>\n      <td>0</td>\n      <td>0</td>\n      <td>0</td>\n      <td>0</td>\n      <td>0</td>\n      <td>0</td>\n      <td>0</td>\n      <td>0</td>\n      <td>1</td>\n    </tr>\n    <tr>\n      <th>3</th>\n      <td>0</td>\n      <td>0</td>\n      <td>1</td>\n      <td>0</td>\n      <td>0</td>\n      <td>0</td>\n      <td>0</td>\n      <td>0</td>\n      <td>0</td>\n    </tr>\n    <tr>\n      <th>4</th>\n      <td>0</td>\n      <td>0</td>\n      <td>0</td>\n      <td>0</td>\n      <td>0</td>\n      <td>0</td>\n      <td>0</td>\n      <td>0</td>\n      <td>1</td>\n    </tr>\n  </tbody>\n</table>\n</div>"
     },
     "execution_count": 134,
     "metadata": {},
     "output_type": "execute_result"
    }
   ],
   "source": [
    "# 存放客舱号信息\n",
    "cabinDf = pd.DataFrame()\n",
    "\n",
    "'''\n",
    "客场号的类别值是首字母，例如：\n",
    "C85 类别映射为首字母C\n",
    "'''\n",
    "full['Cabin'] = full['Cabin'].map(lambda c: c[0])\n",
    "\n",
    "# 使用get_dummies进行one-hot编码，列名前缀是Cabin\n",
    "cabinDf = pd.get_dummies(full['Cabin'], prefix='Cabin')\n",
    "\n",
    "cabinDf.head()"
   ],
   "metadata": {
    "collapsed": false,
    "ExecuteTime": {
     "end_time": "2023-09-03T12:15:39.146262800Z",
     "start_time": "2023-09-03T12:15:38.295391900Z"
    }
   },
   "id": "c0f107ba34ba22cf"
  },
  {
   "cell_type": "code",
   "execution_count": 135,
   "outputs": [
    {
     "data": {
      "text/plain": "   PassengerId  Survived  Sex   Age  SibSp  Parch            Ticket     Fare  \\\n0            1       0.0    1  22.0      1      0         A/5 21171   7.2500   \n1            2       1.0    0  38.0      1      0          PC 17599  71.2833   \n2            3       1.0    0  26.0      0      0  STON/O2. 3101282   7.9250   \n3            4       1.0    0  35.0      1      0            113803  53.1000   \n4            5       0.0    1  35.0      0      0            373450   8.0500   \n\n   Embarked_C  Embarked_Q  ...  Royalty  Cabin_A  Cabin_B  Cabin_C  Cabin_D  \\\n0           0           0  ...        0        0        0        0        0   \n1           1           0  ...        0        0        0        1        0   \n2           0           0  ...        0        0        0        0        0   \n3           0           0  ...        0        0        0        1        0   \n4           0           0  ...        0        0        0        0        0   \n\n   Cabin_E  Cabin_F  Cabin_G  Cabin_T  Cabin_U  \n0        0        0        0        0        1  \n1        0        0        0        0        0  \n2        0        0        0        0        1  \n3        0        0        0        0        0  \n4        0        0        0        0        1  \n\n[5 rows x 29 columns]",
      "text/html": "<div>\n<style scoped>\n    .dataframe tbody tr th:only-of-type {\n        vertical-align: middle;\n    }\n\n    .dataframe tbody tr th {\n        vertical-align: top;\n    }\n\n    .dataframe thead th {\n        text-align: right;\n    }\n</style>\n<table border=\"1\" class=\"dataframe\">\n  <thead>\n    <tr style=\"text-align: right;\">\n      <th></th>\n      <th>PassengerId</th>\n      <th>Survived</th>\n      <th>Sex</th>\n      <th>Age</th>\n      <th>SibSp</th>\n      <th>Parch</th>\n      <th>Ticket</th>\n      <th>Fare</th>\n      <th>Embarked_C</th>\n      <th>Embarked_Q</th>\n      <th>...</th>\n      <th>Royalty</th>\n      <th>Cabin_A</th>\n      <th>Cabin_B</th>\n      <th>Cabin_C</th>\n      <th>Cabin_D</th>\n      <th>Cabin_E</th>\n      <th>Cabin_F</th>\n      <th>Cabin_G</th>\n      <th>Cabin_T</th>\n      <th>Cabin_U</th>\n    </tr>\n  </thead>\n  <tbody>\n    <tr>\n      <th>0</th>\n      <td>1</td>\n      <td>0.0</td>\n      <td>1</td>\n      <td>22.0</td>\n      <td>1</td>\n      <td>0</td>\n      <td>A/5 21171</td>\n      <td>7.2500</td>\n      <td>0</td>\n      <td>0</td>\n      <td>...</td>\n      <td>0</td>\n      <td>0</td>\n      <td>0</td>\n      <td>0</td>\n      <td>0</td>\n      <td>0</td>\n      <td>0</td>\n      <td>0</td>\n      <td>0</td>\n      <td>1</td>\n    </tr>\n    <tr>\n      <th>1</th>\n      <td>2</td>\n      <td>1.0</td>\n      <td>0</td>\n      <td>38.0</td>\n      <td>1</td>\n      <td>0</td>\n      <td>PC 17599</td>\n      <td>71.2833</td>\n      <td>1</td>\n      <td>0</td>\n      <td>...</td>\n      <td>0</td>\n      <td>0</td>\n      <td>0</td>\n      <td>1</td>\n      <td>0</td>\n      <td>0</td>\n      <td>0</td>\n      <td>0</td>\n      <td>0</td>\n      <td>0</td>\n    </tr>\n    <tr>\n      <th>2</th>\n      <td>3</td>\n      <td>1.0</td>\n      <td>0</td>\n      <td>26.0</td>\n      <td>0</td>\n      <td>0</td>\n      <td>STON/O2. 3101282</td>\n      <td>7.9250</td>\n      <td>0</td>\n      <td>0</td>\n      <td>...</td>\n      <td>0</td>\n      <td>0</td>\n      <td>0</td>\n      <td>0</td>\n      <td>0</td>\n      <td>0</td>\n      <td>0</td>\n      <td>0</td>\n      <td>0</td>\n      <td>1</td>\n    </tr>\n    <tr>\n      <th>3</th>\n      <td>4</td>\n      <td>1.0</td>\n      <td>0</td>\n      <td>35.0</td>\n      <td>1</td>\n      <td>0</td>\n      <td>113803</td>\n      <td>53.1000</td>\n      <td>0</td>\n      <td>0</td>\n      <td>...</td>\n      <td>0</td>\n      <td>0</td>\n      <td>0</td>\n      <td>1</td>\n      <td>0</td>\n      <td>0</td>\n      <td>0</td>\n      <td>0</td>\n      <td>0</td>\n      <td>0</td>\n    </tr>\n    <tr>\n      <th>4</th>\n      <td>5</td>\n      <td>0.0</td>\n      <td>1</td>\n      <td>35.0</td>\n      <td>0</td>\n      <td>0</td>\n      <td>373450</td>\n      <td>8.0500</td>\n      <td>0</td>\n      <td>0</td>\n      <td>...</td>\n      <td>0</td>\n      <td>0</td>\n      <td>0</td>\n      <td>0</td>\n      <td>0</td>\n      <td>0</td>\n      <td>0</td>\n      <td>0</td>\n      <td>0</td>\n      <td>1</td>\n    </tr>\n  </tbody>\n</table>\n<p>5 rows × 29 columns</p>\n</div>"
     },
     "execution_count": 135,
     "metadata": {},
     "output_type": "execute_result"
    }
   ],
   "source": [
    "# 添加one-hot编码产生的虚拟变量（dummy variables）到泰坦尼克号数据集full\n",
    "full = pd.concat([full, cabinDf], axis=1)\n",
    "\n",
    "# 删掉客舱号这一列\n",
    "full.drop(\"Cabin\", axis=1, inplace=True)\n",
    "full.head()"
   ],
   "metadata": {
    "collapsed": false,
    "ExecuteTime": {
     "end_time": "2023-09-03T12:15:39.197116300Z",
     "start_time": "2023-09-03T12:15:38.307385900Z"
    }
   },
   "id": "8a9899ac43ac1660"
  },
  {
   "cell_type": "code",
   "execution_count": 136,
   "outputs": [
    {
     "data": {
      "text/plain": "   FamilySize  Family_Single  Family_Small  Family_Large\n0           2              0             1             0\n1           2              0             1             0\n2           1              1             0             0\n3           2              0             1             0\n4           1              1             0             0",
      "text/html": "<div>\n<style scoped>\n    .dataframe tbody tr th:only-of-type {\n        vertical-align: middle;\n    }\n\n    .dataframe tbody tr th {\n        vertical-align: top;\n    }\n\n    .dataframe thead th {\n        text-align: right;\n    }\n</style>\n<table border=\"1\" class=\"dataframe\">\n  <thead>\n    <tr style=\"text-align: right;\">\n      <th></th>\n      <th>FamilySize</th>\n      <th>Family_Single</th>\n      <th>Family_Small</th>\n      <th>Family_Large</th>\n    </tr>\n  </thead>\n  <tbody>\n    <tr>\n      <th>0</th>\n      <td>2</td>\n      <td>0</td>\n      <td>1</td>\n      <td>0</td>\n    </tr>\n    <tr>\n      <th>1</th>\n      <td>2</td>\n      <td>0</td>\n      <td>1</td>\n      <td>0</td>\n    </tr>\n    <tr>\n      <th>2</th>\n      <td>1</td>\n      <td>1</td>\n      <td>0</td>\n      <td>0</td>\n    </tr>\n    <tr>\n      <th>3</th>\n      <td>2</td>\n      <td>0</td>\n      <td>1</td>\n      <td>0</td>\n    </tr>\n    <tr>\n      <th>4</th>\n      <td>1</td>\n      <td>1</td>\n      <td>0</td>\n      <td>0</td>\n    </tr>\n  </tbody>\n</table>\n</div>"
     },
     "execution_count": 136,
     "metadata": {},
     "output_type": "execute_result"
    }
   ],
   "source": [
    "# 存放家庭信息\n",
    "familyDf = pd.DataFrame()\n",
    "\n",
    "'''\n",
    "家庭人数=同代直系亲属数（Parch）+不同代直系亲属数（SibSp）+乘客自己\n",
    "（因为乘客自己也是家庭成员的一个，所以这里加1）\n",
    "'''\n",
    "familyDf[\"FamilySize\"] = full[\"Parch\"] + full[\"SibSp\"] + 1\n",
    "\n",
    "'''\n",
    "家庭类别：\n",
    "    小家庭（Family_Single）：家庭人数=1\n",
    "    中等家庭（Family_Small）: 2<=家庭人数<=4\n",
    "    大家庭（Family_Large）: 家庭人数>=5\n",
    "'''\n",
    "# if 条件为真的时候返回if前面内容，否则返回0\n",
    "familyDf['Family_Single'] = familyDf[\"FamilySize\"].map(\n",
    "    lambda s: 1 if s == 1 else 0)\n",
    "familyDf['Family_Small'] = familyDf[\"FamilySize\"].map(\n",
    "    lambda s: 1 if 2 <= s <= 4 else 0)\n",
    "familyDf['Family_Large'] = familyDf[\"FamilySize\"].map(\n",
    "    lambda s: 1 if 5 <= s else 0)\n",
    "\n",
    "familyDf.head()"
   ],
   "metadata": {
    "collapsed": false,
    "ExecuteTime": {
     "end_time": "2023-09-03T12:15:39.201129200Z",
     "start_time": "2023-09-03T12:15:38.332371600Z"
    }
   },
   "id": "90d7149bc8ffbc42"
  },
  {
   "cell_type": "code",
   "execution_count": 137,
   "outputs": [
    {
     "data": {
      "text/plain": "   PassengerId  Survived  Sex   Age  SibSp  Parch            Ticket     Fare  \\\n0            1       0.0    1  22.0      1      0         A/5 21171   7.2500   \n1            2       1.0    0  38.0      1      0          PC 17599  71.2833   \n2            3       1.0    0  26.0      0      0  STON/O2. 3101282   7.9250   \n3            4       1.0    0  35.0      1      0            113803  53.1000   \n4            5       0.0    1  35.0      0      0            373450   8.0500   \n\n   Embarked_C  Embarked_Q  ...  Cabin_D  Cabin_E  Cabin_F  Cabin_G  Cabin_T  \\\n0           0           0  ...        0        0        0        0        0   \n1           1           0  ...        0        0        0        0        0   \n2           0           0  ...        0        0        0        0        0   \n3           0           0  ...        0        0        0        0        0   \n4           0           0  ...        0        0        0        0        0   \n\n   Cabin_U  FamilySize  Family_Single  Family_Small  Family_Large  \n0        1           2              0             1             0  \n1        0           2              0             1             0  \n2        1           1              1             0             0  \n3        0           2              0             1             0  \n4        1           1              1             0             0  \n\n[5 rows x 33 columns]",
      "text/html": "<div>\n<style scoped>\n    .dataframe tbody tr th:only-of-type {\n        vertical-align: middle;\n    }\n\n    .dataframe tbody tr th {\n        vertical-align: top;\n    }\n\n    .dataframe thead th {\n        text-align: right;\n    }\n</style>\n<table border=\"1\" class=\"dataframe\">\n  <thead>\n    <tr style=\"text-align: right;\">\n      <th></th>\n      <th>PassengerId</th>\n      <th>Survived</th>\n      <th>Sex</th>\n      <th>Age</th>\n      <th>SibSp</th>\n      <th>Parch</th>\n      <th>Ticket</th>\n      <th>Fare</th>\n      <th>Embarked_C</th>\n      <th>Embarked_Q</th>\n      <th>...</th>\n      <th>Cabin_D</th>\n      <th>Cabin_E</th>\n      <th>Cabin_F</th>\n      <th>Cabin_G</th>\n      <th>Cabin_T</th>\n      <th>Cabin_U</th>\n      <th>FamilySize</th>\n      <th>Family_Single</th>\n      <th>Family_Small</th>\n      <th>Family_Large</th>\n    </tr>\n  </thead>\n  <tbody>\n    <tr>\n      <th>0</th>\n      <td>1</td>\n      <td>0.0</td>\n      <td>1</td>\n      <td>22.0</td>\n      <td>1</td>\n      <td>0</td>\n      <td>A/5 21171</td>\n      <td>7.2500</td>\n      <td>0</td>\n      <td>0</td>\n      <td>...</td>\n      <td>0</td>\n      <td>0</td>\n      <td>0</td>\n      <td>0</td>\n      <td>0</td>\n      <td>1</td>\n      <td>2</td>\n      <td>0</td>\n      <td>1</td>\n      <td>0</td>\n    </tr>\n    <tr>\n      <th>1</th>\n      <td>2</td>\n      <td>1.0</td>\n      <td>0</td>\n      <td>38.0</td>\n      <td>1</td>\n      <td>0</td>\n      <td>PC 17599</td>\n      <td>71.2833</td>\n      <td>1</td>\n      <td>0</td>\n      <td>...</td>\n      <td>0</td>\n      <td>0</td>\n      <td>0</td>\n      <td>0</td>\n      <td>0</td>\n      <td>0</td>\n      <td>2</td>\n      <td>0</td>\n      <td>1</td>\n      <td>0</td>\n    </tr>\n    <tr>\n      <th>2</th>\n      <td>3</td>\n      <td>1.0</td>\n      <td>0</td>\n      <td>26.0</td>\n      <td>0</td>\n      <td>0</td>\n      <td>STON/O2. 3101282</td>\n      <td>7.9250</td>\n      <td>0</td>\n      <td>0</td>\n      <td>...</td>\n      <td>0</td>\n      <td>0</td>\n      <td>0</td>\n      <td>0</td>\n      <td>0</td>\n      <td>1</td>\n      <td>1</td>\n      <td>1</td>\n      <td>0</td>\n      <td>0</td>\n    </tr>\n    <tr>\n      <th>3</th>\n      <td>4</td>\n      <td>1.0</td>\n      <td>0</td>\n      <td>35.0</td>\n      <td>1</td>\n      <td>0</td>\n      <td>113803</td>\n      <td>53.1000</td>\n      <td>0</td>\n      <td>0</td>\n      <td>...</td>\n      <td>0</td>\n      <td>0</td>\n      <td>0</td>\n      <td>0</td>\n      <td>0</td>\n      <td>0</td>\n      <td>2</td>\n      <td>0</td>\n      <td>1</td>\n      <td>0</td>\n    </tr>\n    <tr>\n      <th>4</th>\n      <td>5</td>\n      <td>0.0</td>\n      <td>1</td>\n      <td>35.0</td>\n      <td>0</td>\n      <td>0</td>\n      <td>373450</td>\n      <td>8.0500</td>\n      <td>0</td>\n      <td>0</td>\n      <td>...</td>\n      <td>0</td>\n      <td>0</td>\n      <td>0</td>\n      <td>0</td>\n      <td>0</td>\n      <td>1</td>\n      <td>1</td>\n      <td>1</td>\n      <td>0</td>\n      <td>0</td>\n    </tr>\n  </tbody>\n</table>\n<p>5 rows × 33 columns</p>\n</div>"
     },
     "execution_count": 137,
     "metadata": {},
     "output_type": "execute_result"
    }
   ],
   "source": [
    "# 添加one-hot编码产生的虚拟变量（dummy variables）到泰坦尼克号数据集full\n",
    "full = pd.concat([full, familyDf], axis=1)\n",
    "full.head()"
   ],
   "metadata": {
    "collapsed": false,
    "ExecuteTime": {
     "end_time": "2023-09-03T12:15:39.202129100Z",
     "start_time": "2023-09-03T12:15:38.349361100Z"
    }
   },
   "id": "d9a264636c701dd6"
  },
  {
   "cell_type": "code",
   "execution_count": 138,
   "outputs": [
    {
     "data": {
      "text/plain": "             PassengerId  Survived       Sex       Age     SibSp     Parch  \\\nPassengerId     1.000000 -0.005007  0.013406  0.025731 -0.055224  0.008942   \nSurvived       -0.005007  1.000000 -0.543351 -0.070323 -0.035322  0.081629   \nSex             0.013406 -0.543351  1.000000  0.057397 -0.109609 -0.213125   \nAge             0.025731 -0.070323  0.057397  1.000000 -0.190747 -0.130872   \nSibSp          -0.055224 -0.035322 -0.109609 -0.190747  1.000000  0.373587   \n\n                 Fare  Embarked_C  Embarked_Q  Embarked_S  ...   Cabin_D  \\\nPassengerId  0.031416    0.048101    0.011585   -0.049836  ...  0.000549   \nSurvived     0.257307    0.168240    0.003650   -0.149683  ...  0.150716   \nSex         -0.185484   -0.066564   -0.088651    0.115193  ... -0.057396   \nAge          0.171521    0.076179   -0.012718   -0.059153  ...  0.132886   \nSibSp        0.160224   -0.048396   -0.048678    0.073709  ... -0.015727   \n\n              Cabin_E   Cabin_F   Cabin_G   Cabin_T   Cabin_U  FamilySize  \\\nPassengerId -0.008136  0.000306 -0.045949 -0.023049  0.000208   -0.031437   \nSurvived     0.145321  0.057935  0.016040 -0.026456 -0.316912    0.016639   \nSex         -0.040340 -0.006655 -0.083285  0.020558  0.137396   -0.188583   \nAge          0.106600 -0.072644 -0.085977  0.032461 -0.271918   -0.196996   \nSibSp       -0.027180 -0.008619  0.006015 -0.013247  0.009064    0.861952   \n\n             Family_Single  Family_Small  Family_Large  \nPassengerId       0.028546      0.002975     -0.063415  \nSurvived         -0.203367      0.279855     -0.125147  \nSex               0.284537     -0.255196     -0.077748  \nAge               0.116675     -0.038189     -0.161210  \nSibSp            -0.591077      0.253590      0.699681  \n\n[5 rows x 32 columns]",
      "text/html": "<div>\n<style scoped>\n    .dataframe tbody tr th:only-of-type {\n        vertical-align: middle;\n    }\n\n    .dataframe tbody tr th {\n        vertical-align: top;\n    }\n\n    .dataframe thead th {\n        text-align: right;\n    }\n</style>\n<table border=\"1\" class=\"dataframe\">\n  <thead>\n    <tr style=\"text-align: right;\">\n      <th></th>\n      <th>PassengerId</th>\n      <th>Survived</th>\n      <th>Sex</th>\n      <th>Age</th>\n      <th>SibSp</th>\n      <th>Parch</th>\n      <th>Fare</th>\n      <th>Embarked_C</th>\n      <th>Embarked_Q</th>\n      <th>Embarked_S</th>\n      <th>...</th>\n      <th>Cabin_D</th>\n      <th>Cabin_E</th>\n      <th>Cabin_F</th>\n      <th>Cabin_G</th>\n      <th>Cabin_T</th>\n      <th>Cabin_U</th>\n      <th>FamilySize</th>\n      <th>Family_Single</th>\n      <th>Family_Small</th>\n      <th>Family_Large</th>\n    </tr>\n  </thead>\n  <tbody>\n    <tr>\n      <th>PassengerId</th>\n      <td>1.000000</td>\n      <td>-0.005007</td>\n      <td>0.013406</td>\n      <td>0.025731</td>\n      <td>-0.055224</td>\n      <td>0.008942</td>\n      <td>0.031416</td>\n      <td>0.048101</td>\n      <td>0.011585</td>\n      <td>-0.049836</td>\n      <td>...</td>\n      <td>0.000549</td>\n      <td>-0.008136</td>\n      <td>0.000306</td>\n      <td>-0.045949</td>\n      <td>-0.023049</td>\n      <td>0.000208</td>\n      <td>-0.031437</td>\n      <td>0.028546</td>\n      <td>0.002975</td>\n      <td>-0.063415</td>\n    </tr>\n    <tr>\n      <th>Survived</th>\n      <td>-0.005007</td>\n      <td>1.000000</td>\n      <td>-0.543351</td>\n      <td>-0.070323</td>\n      <td>-0.035322</td>\n      <td>0.081629</td>\n      <td>0.257307</td>\n      <td>0.168240</td>\n      <td>0.003650</td>\n      <td>-0.149683</td>\n      <td>...</td>\n      <td>0.150716</td>\n      <td>0.145321</td>\n      <td>0.057935</td>\n      <td>0.016040</td>\n      <td>-0.026456</td>\n      <td>-0.316912</td>\n      <td>0.016639</td>\n      <td>-0.203367</td>\n      <td>0.279855</td>\n      <td>-0.125147</td>\n    </tr>\n    <tr>\n      <th>Sex</th>\n      <td>0.013406</td>\n      <td>-0.543351</td>\n      <td>1.000000</td>\n      <td>0.057397</td>\n      <td>-0.109609</td>\n      <td>-0.213125</td>\n      <td>-0.185484</td>\n      <td>-0.066564</td>\n      <td>-0.088651</td>\n      <td>0.115193</td>\n      <td>...</td>\n      <td>-0.057396</td>\n      <td>-0.040340</td>\n      <td>-0.006655</td>\n      <td>-0.083285</td>\n      <td>0.020558</td>\n      <td>0.137396</td>\n      <td>-0.188583</td>\n      <td>0.284537</td>\n      <td>-0.255196</td>\n      <td>-0.077748</td>\n    </tr>\n    <tr>\n      <th>Age</th>\n      <td>0.025731</td>\n      <td>-0.070323</td>\n      <td>0.057397</td>\n      <td>1.000000</td>\n      <td>-0.190747</td>\n      <td>-0.130872</td>\n      <td>0.171521</td>\n      <td>0.076179</td>\n      <td>-0.012718</td>\n      <td>-0.059153</td>\n      <td>...</td>\n      <td>0.132886</td>\n      <td>0.106600</td>\n      <td>-0.072644</td>\n      <td>-0.085977</td>\n      <td>0.032461</td>\n      <td>-0.271918</td>\n      <td>-0.196996</td>\n      <td>0.116675</td>\n      <td>-0.038189</td>\n      <td>-0.161210</td>\n    </tr>\n    <tr>\n      <th>SibSp</th>\n      <td>-0.055224</td>\n      <td>-0.035322</td>\n      <td>-0.109609</td>\n      <td>-0.190747</td>\n      <td>1.000000</td>\n      <td>0.373587</td>\n      <td>0.160224</td>\n      <td>-0.048396</td>\n      <td>-0.048678</td>\n      <td>0.073709</td>\n      <td>...</td>\n      <td>-0.015727</td>\n      <td>-0.027180</td>\n      <td>-0.008619</td>\n      <td>0.006015</td>\n      <td>-0.013247</td>\n      <td>0.009064</td>\n      <td>0.861952</td>\n      <td>-0.591077</td>\n      <td>0.253590</td>\n      <td>0.699681</td>\n    </tr>\n  </tbody>\n</table>\n<p>5 rows × 32 columns</p>\n</div>"
     },
     "execution_count": 138,
     "metadata": {},
     "output_type": "execute_result"
    }
   ],
   "source": [
    "#相关性矩阵\n",
    "corrDf = full.corr() \n",
    "corrDf.head()"
   ],
   "metadata": {
    "collapsed": false,
    "ExecuteTime": {
     "end_time": "2023-09-03T12:15:39.203112700Z",
     "start_time": "2023-09-03T12:15:38.376346500Z"
    }
   },
   "id": "696c15123310b012"
  },
  {
   "cell_type": "code",
   "execution_count": 139,
   "outputs": [
    {
     "data": {
      "text/plain": "Survived         1.000000\nMrs              0.344935\nMiss             0.332795\nPclass_1         0.285904\nFamily_Small     0.279855\nFare             0.257307\nCabin_B          0.175095\nEmbarked_C       0.168240\nCabin_D          0.150716\nCabin_E          0.145321\nCabin_C          0.114652\nPclass_2         0.093349\nMaster           0.085221\nParch            0.081629\nCabin_F          0.057935\nRoyalty          0.033391\nCabin_A          0.022287\nFamilySize       0.016639\nCabin_G          0.016040\nEmbarked_Q       0.003650\nPassengerId     -0.005007\nCabin_T         -0.026456\nOfficer         -0.031316\nSibSp           -0.035322\nAge             -0.070323\nFamily_Large    -0.125147\nEmbarked_S      -0.149683\nFamily_Single   -0.203367\nCabin_U         -0.316912\nPclass_3        -0.322308\nSex             -0.543351\nMr              -0.549199\nName: Survived, dtype: float64"
     },
     "execution_count": 139,
     "metadata": {},
     "output_type": "execute_result"
    }
   ],
   "source": [
    "'''\n",
    "查看各个特征与生成情况（Survived）的相关系数，\n",
    "ascending=False表示按降序排列\n",
    "'''\n",
    "corrDf[\"Survived\"].sort_values(ascending=False)"
   ],
   "metadata": {
    "collapsed": false,
    "ExecuteTime": {
     "end_time": "2023-09-03T12:15:39.203112700Z",
     "start_time": "2023-09-03T12:15:38.405329300Z"
    }
   },
   "id": "13d592eb8ce36de9"
  },
  {
   "cell_type": "code",
   "execution_count": 140,
   "outputs": [
    {
     "data": {
      "text/plain": "   Master  Miss  Mr  Mrs  Officer  Royalty  Pclass_1  Pclass_2  Pclass_3  \\\n0       0     0   1    0        0        0         0         0         1   \n1       0     0   0    1        0        0         1         0         0   \n2       0     1   0    0        0        0         0         0         1   \n3       0     0   0    1        0        0         1         0         0   \n4       0     0   1    0        0        0         0         0         1   \n\n   FamilySize  ...  Cabin_D  Cabin_E  Cabin_F  Cabin_G  Cabin_T  Cabin_U  \\\n0           2  ...        0        0        0        0        0        1   \n1           2  ...        0        0        0        0        0        0   \n2           1  ...        0        0        0        0        0        1   \n3           2  ...        0        0        0        0        0        0   \n4           1  ...        0        0        0        0        0        1   \n\n   Embarked_C  Embarked_Q  Embarked_S  Sex  \n0           0           0           1    1  \n1           1           0           0    0  \n2           0           0           1    0  \n3           0           0           1    0  \n4           0           0           1    1  \n\n[5 rows x 27 columns]",
      "text/html": "<div>\n<style scoped>\n    .dataframe tbody tr th:only-of-type {\n        vertical-align: middle;\n    }\n\n    .dataframe tbody tr th {\n        vertical-align: top;\n    }\n\n    .dataframe thead th {\n        text-align: right;\n    }\n</style>\n<table border=\"1\" class=\"dataframe\">\n  <thead>\n    <tr style=\"text-align: right;\">\n      <th></th>\n      <th>Master</th>\n      <th>Miss</th>\n      <th>Mr</th>\n      <th>Mrs</th>\n      <th>Officer</th>\n      <th>Royalty</th>\n      <th>Pclass_1</th>\n      <th>Pclass_2</th>\n      <th>Pclass_3</th>\n      <th>FamilySize</th>\n      <th>...</th>\n      <th>Cabin_D</th>\n      <th>Cabin_E</th>\n      <th>Cabin_F</th>\n      <th>Cabin_G</th>\n      <th>Cabin_T</th>\n      <th>Cabin_U</th>\n      <th>Embarked_C</th>\n      <th>Embarked_Q</th>\n      <th>Embarked_S</th>\n      <th>Sex</th>\n    </tr>\n  </thead>\n  <tbody>\n    <tr>\n      <th>0</th>\n      <td>0</td>\n      <td>0</td>\n      <td>1</td>\n      <td>0</td>\n      <td>0</td>\n      <td>0</td>\n      <td>0</td>\n      <td>0</td>\n      <td>1</td>\n      <td>2</td>\n      <td>...</td>\n      <td>0</td>\n      <td>0</td>\n      <td>0</td>\n      <td>0</td>\n      <td>0</td>\n      <td>1</td>\n      <td>0</td>\n      <td>0</td>\n      <td>1</td>\n      <td>1</td>\n    </tr>\n    <tr>\n      <th>1</th>\n      <td>0</td>\n      <td>0</td>\n      <td>0</td>\n      <td>1</td>\n      <td>0</td>\n      <td>0</td>\n      <td>1</td>\n      <td>0</td>\n      <td>0</td>\n      <td>2</td>\n      <td>...</td>\n      <td>0</td>\n      <td>0</td>\n      <td>0</td>\n      <td>0</td>\n      <td>0</td>\n      <td>0</td>\n      <td>1</td>\n      <td>0</td>\n      <td>0</td>\n      <td>0</td>\n    </tr>\n    <tr>\n      <th>2</th>\n      <td>0</td>\n      <td>1</td>\n      <td>0</td>\n      <td>0</td>\n      <td>0</td>\n      <td>0</td>\n      <td>0</td>\n      <td>0</td>\n      <td>1</td>\n      <td>1</td>\n      <td>...</td>\n      <td>0</td>\n      <td>0</td>\n      <td>0</td>\n      <td>0</td>\n      <td>0</td>\n      <td>1</td>\n      <td>0</td>\n      <td>0</td>\n      <td>1</td>\n      <td>0</td>\n    </tr>\n    <tr>\n      <th>3</th>\n      <td>0</td>\n      <td>0</td>\n      <td>0</td>\n      <td>1</td>\n      <td>0</td>\n      <td>0</td>\n      <td>1</td>\n      <td>0</td>\n      <td>0</td>\n      <td>2</td>\n      <td>...</td>\n      <td>0</td>\n      <td>0</td>\n      <td>0</td>\n      <td>0</td>\n      <td>0</td>\n      <td>0</td>\n      <td>0</td>\n      <td>0</td>\n      <td>1</td>\n      <td>0</td>\n    </tr>\n    <tr>\n      <th>4</th>\n      <td>0</td>\n      <td>0</td>\n      <td>1</td>\n      <td>0</td>\n      <td>0</td>\n      <td>0</td>\n      <td>0</td>\n      <td>0</td>\n      <td>1</td>\n      <td>1</td>\n      <td>...</td>\n      <td>0</td>\n      <td>0</td>\n      <td>0</td>\n      <td>0</td>\n      <td>0</td>\n      <td>1</td>\n      <td>0</td>\n      <td>0</td>\n      <td>1</td>\n      <td>1</td>\n    </tr>\n  </tbody>\n</table>\n<p>5 rows × 27 columns</p>\n</div>"
     },
     "execution_count": 140,
     "metadata": {},
     "output_type": "execute_result"
    }
   ],
   "source": [
    "# 特征选择\n",
    "full_X = pd.concat([titleDf,  # 头衔\n",
    "                    pclassDf,  # 客舱等级\n",
    "                    familyDf,  # 家庭大小\n",
    "                    full[\"Fare\"],  # 船票价格\n",
    "                    cabinDf,  # 船舱号\n",
    "                    embarkedDf,  # 登船港口\n",
    "                    full[\"Sex\"]  # 性别\n",
    "                    ], axis=1)\n",
    "full_X.head()"
   ],
   "metadata": {
    "collapsed": false,
    "ExecuteTime": {
     "end_time": "2023-09-03T12:15:39.204112200Z",
     "start_time": "2023-09-03T12:15:38.413325500Z"
    }
   },
   "id": "469f14257e5b7c72"
  },
  {
   "cell_type": "code",
   "execution_count": 141,
   "outputs": [],
   "source": [
    "'''\n",
    "1）坦尼克号测试数据集因为是我们最后要提交给Kaggle的，里面没有生存情况的值，所以不能用于评估模型。\n",
    "    我们将Kaggle泰坦尼克号项目给我们的测试数据，叫做预测数据集（记为pred,也就是预测英文单词predict的缩写）。\n",
    "    也就是我们使用机器学习模型来对其生存情况就那些预测。\n",
    "2）我们使用Kaggle泰坦尼克号项目给的训练数据集，做为我们的原始数据集（记为source），\n",
    "    从这个原始数据集中拆分出训练数据集（记为train：用于模型训练）和测试数据集（记为test：用于模型评估）。\n",
    "\n",
    "'''\n",
    "\n",
    "'''\n",
    "TRAIN_ROWS 是我们在最开始合并数据前知道的，原始数据集有总共有 TRAIN_ROWS 条数据\n",
    "从特征集合full_X中提取原始数据集提取前 TRAIN_ROWS 行数据时，我们要减去1，因为行号是从0开始的。\n",
    "'''\n",
    "TRAIN_ROWS = train_data.shape[0] # 训练数据集有多少行\n",
    "# 原始数据集：特征\n",
    "source_X = full_X.loc[0:TRAIN_ROWS-1, :]\n",
    "# 原始数据集：标签\n",
    "source_y = full.loc[0:TRAIN_ROWS-1, 'Survived']\n",
    "# 预测数据集：特征\n",
    "pred_X = full_X.loc[TRAIN_ROWS:, :]\n",
    "\n",
    "# 上面代码解释：\n",
    "# TRAIN_ROWS 行前面的数据是测试数据集，TRAIN_ROWS 行之后的数据是预测数据集。[TRAIN_ROWS:,:]就是\n",
    "# 从 TRAIN_ROWS 行开始到最后一行作为预测数据集"
   ],
   "metadata": {
    "collapsed": false,
    "ExecuteTime": {
     "end_time": "2023-09-03T12:15:39.204112200Z",
     "start_time": "2023-09-03T12:15:38.439312200Z"
    }
   },
   "id": "b9fd0339a232c35f"
  },
  {
   "cell_type": "code",
   "execution_count": 142,
   "outputs": [
    {
     "name": "stdout",
     "output_type": "stream",
     "text": [
      "原始数据集特征： (891, 27) 训练数据集特征： (712, 27) 测试数据集特征： (179, 27)\n",
      "原始数据集标签： (891,) 训练数据集标签： (712,) 测试数据集标签： (179,)\n"
     ]
    }
   ],
   "source": [
    "'''\n",
    "从原始数据集（source）中拆分出训练数据集（用于模型训练 train），测试数据集（用于模型评估 test）\n",
    "train_test_split 是交叉验证中常用的函数，功能是从样本中随机的按比例选取 train data 和 test data\n",
    "train_data：所要划分的样本特征集\n",
    "train_target：所要划分的样本结果\n",
    "test_size：样本占比，如果是整数的话就是样本的数量\n",
    "'''\n",
    "from sklearn.model_selection import train_test_split\n",
    "\n",
    "# 建立模型用的训练数据集和测试数据集\n",
    "train_X, test_X, train_y, test_y = train_test_split(source_X,\n",
    "                                                    source_y,\n",
    "                                                    train_size=.8)\n",
    "\n",
    "# 输出数据集大小\n",
    "print('原始数据集特征：', source_X.shape,\n",
    "      '训练数据集特征：', train_X.shape,\n",
    "      '测试数据集特征：', test_X.shape)\n",
    "\n",
    "print('原始数据集标签：', source_y.shape,\n",
    "      '训练数据集标签：', train_y.shape,\n",
    "      '测试数据集标签：', test_y.shape)"
   ],
   "metadata": {
    "collapsed": false,
    "ExecuteTime": {
     "end_time": "2023-09-03T12:15:39.205111500Z",
     "start_time": "2023-09-03T12:15:38.446306Z"
    }
   },
   "id": "482355c07665cecb"
  },
  {
   "cell_type": "code",
   "execution_count": 143,
   "outputs": [
    {
     "data": {
      "text/plain": "0    0.0\n1    1.0\n2    1.0\n3    1.0\n4    0.0\nName: Survived, dtype: float64"
     },
     "execution_count": 143,
     "metadata": {},
     "output_type": "execute_result"
    }
   ],
   "source": [
    "# 原始数据查看\n",
    "source_y.head()"
   ],
   "metadata": {
    "collapsed": false,
    "ExecuteTime": {
     "end_time": "2023-09-03T12:15:39.205111500Z",
     "start_time": "2023-09-03T12:15:38.461314Z"
    }
   },
   "id": "65fe40f518ab8b3e"
  },
  {
   "cell_type": "code",
   "execution_count": 144,
   "outputs": [
    {
     "data": {
      "text/plain": "     Master  Miss  Mr  Mrs  Officer  Royalty  Pclass_1  Pclass_2  Pclass_3  \\\n140       0     0   0    1        0        0         0         0         1   \n439       0     0   1    0        0        0         0         1         0   \n817       0     0   1    0        0        0         0         1         0   \n378       0     0   1    0        0        0         0         0         1   \n491       0     0   1    0        0        0         0         0         1   \n\n     FamilySize  ...  Cabin_D  Cabin_E  Cabin_F  Cabin_G  Cabin_T  Cabin_U  \\\n140           3  ...        0        0        0        0        0        1   \n439           1  ...        0        0        0        0        0        1   \n817           3  ...        0        0        0        0        0        1   \n378           1  ...        0        0        0        0        0        1   \n491           1  ...        0        0        0        0        0        1   \n\n     Embarked_C  Embarked_Q  Embarked_S  Sex  \n140           1           0           0    0  \n439           0           0           1    1  \n817           1           0           0    1  \n378           1           0           0    1  \n491           0           0           1    1  \n\n[5 rows x 27 columns]",
      "text/html": "<div>\n<style scoped>\n    .dataframe tbody tr th:only-of-type {\n        vertical-align: middle;\n    }\n\n    .dataframe tbody tr th {\n        vertical-align: top;\n    }\n\n    .dataframe thead th {\n        text-align: right;\n    }\n</style>\n<table border=\"1\" class=\"dataframe\">\n  <thead>\n    <tr style=\"text-align: right;\">\n      <th></th>\n      <th>Master</th>\n      <th>Miss</th>\n      <th>Mr</th>\n      <th>Mrs</th>\n      <th>Officer</th>\n      <th>Royalty</th>\n      <th>Pclass_1</th>\n      <th>Pclass_2</th>\n      <th>Pclass_3</th>\n      <th>FamilySize</th>\n      <th>...</th>\n      <th>Cabin_D</th>\n      <th>Cabin_E</th>\n      <th>Cabin_F</th>\n      <th>Cabin_G</th>\n      <th>Cabin_T</th>\n      <th>Cabin_U</th>\n      <th>Embarked_C</th>\n      <th>Embarked_Q</th>\n      <th>Embarked_S</th>\n      <th>Sex</th>\n    </tr>\n  </thead>\n  <tbody>\n    <tr>\n      <th>140</th>\n      <td>0</td>\n      <td>0</td>\n      <td>0</td>\n      <td>1</td>\n      <td>0</td>\n      <td>0</td>\n      <td>0</td>\n      <td>0</td>\n      <td>1</td>\n      <td>3</td>\n      <td>...</td>\n      <td>0</td>\n      <td>0</td>\n      <td>0</td>\n      <td>0</td>\n      <td>0</td>\n      <td>1</td>\n      <td>1</td>\n      <td>0</td>\n      <td>0</td>\n      <td>0</td>\n    </tr>\n    <tr>\n      <th>439</th>\n      <td>0</td>\n      <td>0</td>\n      <td>1</td>\n      <td>0</td>\n      <td>0</td>\n      <td>0</td>\n      <td>0</td>\n      <td>1</td>\n      <td>0</td>\n      <td>1</td>\n      <td>...</td>\n      <td>0</td>\n      <td>0</td>\n      <td>0</td>\n      <td>0</td>\n      <td>0</td>\n      <td>1</td>\n      <td>0</td>\n      <td>0</td>\n      <td>1</td>\n      <td>1</td>\n    </tr>\n    <tr>\n      <th>817</th>\n      <td>0</td>\n      <td>0</td>\n      <td>1</td>\n      <td>0</td>\n      <td>0</td>\n      <td>0</td>\n      <td>0</td>\n      <td>1</td>\n      <td>0</td>\n      <td>3</td>\n      <td>...</td>\n      <td>0</td>\n      <td>0</td>\n      <td>0</td>\n      <td>0</td>\n      <td>0</td>\n      <td>1</td>\n      <td>1</td>\n      <td>0</td>\n      <td>0</td>\n      <td>1</td>\n    </tr>\n    <tr>\n      <th>378</th>\n      <td>0</td>\n      <td>0</td>\n      <td>1</td>\n      <td>0</td>\n      <td>0</td>\n      <td>0</td>\n      <td>0</td>\n      <td>0</td>\n      <td>1</td>\n      <td>1</td>\n      <td>...</td>\n      <td>0</td>\n      <td>0</td>\n      <td>0</td>\n      <td>0</td>\n      <td>0</td>\n      <td>1</td>\n      <td>1</td>\n      <td>0</td>\n      <td>0</td>\n      <td>1</td>\n    </tr>\n    <tr>\n      <th>491</th>\n      <td>0</td>\n      <td>0</td>\n      <td>1</td>\n      <td>0</td>\n      <td>0</td>\n      <td>0</td>\n      <td>0</td>\n      <td>0</td>\n      <td>1</td>\n      <td>1</td>\n      <td>...</td>\n      <td>0</td>\n      <td>0</td>\n      <td>0</td>\n      <td>0</td>\n      <td>0</td>\n      <td>1</td>\n      <td>0</td>\n      <td>0</td>\n      <td>1</td>\n      <td>1</td>\n    </tr>\n  </tbody>\n</table>\n<p>5 rows × 27 columns</p>\n</div>"
     },
     "execution_count": 144,
     "metadata": {},
     "output_type": "execute_result"
    }
   ],
   "source": [
    "train_X.head()"
   ],
   "metadata": {
    "collapsed": false,
    "ExecuteTime": {
     "end_time": "2023-09-03T12:15:39.207110800Z",
     "start_time": "2023-09-03T12:15:38.476304700Z"
    }
   },
   "id": "63936df0aaa50382"
  },
  {
   "cell_type": "code",
   "execution_count": 145,
   "outputs": [
    {
     "data": {
      "text/plain": "140    0.0\n439    0.0\n817    0.0\n378    0.0\n491    0.0\nName: Survived, dtype: float64"
     },
     "execution_count": 145,
     "metadata": {},
     "output_type": "execute_result"
    }
   ],
   "source": [
    "train_y.head()"
   ],
   "metadata": {
    "collapsed": false,
    "ExecuteTime": {
     "end_time": "2023-09-03T12:15:39.208109500Z",
     "start_time": "2023-09-03T12:15:38.497293700Z"
    }
   },
   "id": "ea5dec7fb5ada6ac"
  },
  {
   "cell_type": "code",
   "execution_count": 146,
   "outputs": [
    {
     "data": {
      "text/plain": "0.8268156424581006"
     },
     "execution_count": 146,
     "metadata": {},
     "output_type": "execute_result"
    }
   ],
   "source": [
    "# 第1步：导入算法\n",
    "from sklearn.linear_model import LogisticRegression\n",
    "# 第2步：创建模型：逻辑回归（logisic regression）\n",
    "model = LogisticRegression(solver='liblinear', class_weight=\"balanced\")\n",
    "# 第3步：训练模型\n",
    "model.fit(train_X, train_y)\n",
    "# 分类问题，score得到的是模型的正确率\n",
    "model.score(test_X , test_y )"
   ],
   "metadata": {
    "collapsed": false,
    "ExecuteTime": {
     "end_time": "2023-09-03T12:15:39.208109500Z",
     "start_time": "2023-09-03T12:15:38.511029800Z"
    }
   },
   "id": "5ffd378c69db5e2c"
  },
  {
   "cell_type": "code",
   "execution_count": 160,
   "outputs": [],
   "source": [
    "# 使用机器学习模型，对预测数据集中的生存情况进行预测\n",
    "pred_Y = model.predict(pred_X)\n",
    "\n",
    "'''\n",
    "生成的预测值是浮点数（0.0,1,0）\n",
    "但是Kaggle要求提交的结果是整型（0,1）\n",
    "所以要对数据类型进行转换\n",
    "'''\n",
    "pred_Y = pred_Y.astype(int)\n",
    "# 乘客id\n",
    "passenger_id = full.loc[TRAIN_ROWS:, 'PassengerId']\n",
    "# 数据框：乘客id，预测生存情况的值\n",
    "predDf = pd.DataFrame(\n",
    "    {\"PassengerId\": passenger_id,\n",
    "     \"Survived\": pred_Y})\n",
    "predDf.shape\n",
    "predDf.head()\n",
    "# 保存结果\n",
    "predDf.to_csv('../answer_data/Titanic_by_Logit.csv',  index=False)"
   ],
   "metadata": {
    "collapsed": false,
    "ExecuteTime": {
     "end_time": "2023-09-03T12:27:03.810164800Z",
     "start_time": "2023-09-03T12:27:03.782180300Z"
    }
   },
   "id": "2967d763afe9af39"
  },
  {
   "cell_type": "code",
   "execution_count": 148,
   "outputs": [],
   "source": [
    "# 将source_X和source_y进行拼接，得到原始数据集\n",
    "source = pd.concat([source_X, source_y], axis=1)\n",
    "# 将source分成训练数据集和测试数据集\n",
    "train_cathy, test_cathy = train_test_split(source, train_size=.8)"
   ],
   "metadata": {
    "collapsed": false,
    "ExecuteTime": {
     "end_time": "2023-09-03T12:15:39.210108400Z",
     "start_time": "2023-09-03T12:15:38.544012100Z"
    }
   },
   "id": "e8261fedcfd13c0c"
  },
  {
   "cell_type": "code",
   "execution_count": 149,
   "outputs": [
    {
     "name": "stderr",
     "output_type": "stream",
     "text": [
      "Warning: path already exists! This predictor may overwrite an existing predictor! path=\"agModels-predictClass\"\n",
      "Beginning AutoGluon training ...\n",
      "AutoGluon will save models to \"agModels-predictClass\\\"\n",
      "AutoGluon Version:  0.8.2\n",
      "Python Version:     3.10.4\n",
      "Operating System:   Windows\n",
      "Platform Machine:   AMD64\n",
      "Platform Version:   10.0.18363\n",
      "Disk Space Avail:   30.39 GB / 170.16 GB (17.9%)\n",
      "Train Data Rows:    712\n",
      "Train Data Columns: 27\n",
      "Label Column: Survived\n",
      "Preprocessing data ...\n",
      "AutoGluon infers your prediction problem is: 'binary' (because only two unique label-values observed).\n",
      "\t2 unique label values:  [0.0, 1.0]\n",
      "\tIf 'binary' is not the correct problem_type, please manually specify the problem_type parameter during predictor init (You may specify problem_type as one of: ['binary', 'multiclass', 'regression'])\n",
      "Selected class <--> label mapping:  class 1 = 1, class 0 = 0\n",
      "Using Feature Generators to preprocess the data ...\n",
      "Fitting AutoMLPipelineFeatureGenerator...\n",
      "\tAvailable Memory:                    19133.89 MB\n",
      "\tTrain Data (Original)  Memory Usage: 0.05 MB (0.0% of available memory)\n",
      "\tInferring data type of each feature based on column values. Set feature_metadata_in to manually specify special dtypes of the features.\n",
      "\tStage 1 Generators:\n",
      "\t\tFitting AsTypeFeatureGenerator...\n",
      "\t\t\tNote: Converting 25 features to boolean dtype as they only contain 2 unique values.\n",
      "\tStage 2 Generators:\n",
      "\t\tFitting FillNaFeatureGenerator...\n",
      "\tStage 3 Generators:\n",
      "\t\tFitting IdentityFeatureGenerator...\n",
      "\tStage 4 Generators:\n",
      "\t\tFitting DropUniqueFeatureGenerator...\n",
      "\tStage 5 Generators:\n",
      "\t\tFitting DropDuplicatesFeatureGenerator...\n",
      "\tTypes of features in original data (raw dtype, special dtypes):\n",
      "\t\t('float', []) :  1 | ['Fare']\n",
      "\t\t('int', [])   : 26 | ['Master', 'Miss', 'Mr', 'Mrs', 'Officer', ...]\n",
      "\tTypes of features in processed data (raw dtype, special dtypes):\n",
      "\t\t('float', [])     :  1 | ['Fare']\n",
      "\t\t('int', [])       :  1 | ['FamilySize']\n",
      "\t\t('int', ['bool']) : 25 | ['Master', 'Miss', 'Mr', 'Mrs', 'Officer', ...]\n",
      "\t0.1s = Fit runtime\n",
      "\t27 features in original data used to generate 27 features in processed data.\n",
      "\tTrain Data (Processed) Memory Usage: 0.03 MB (0.0% of available memory)\n",
      "Data preprocessing and feature engineering runtime = 0.14s ...\n",
      "AutoGluon will gauge predictive performance using evaluation metric: 'accuracy'\n",
      "\tTo change this, specify the eval_metric parameter of Predictor()\n",
      "Automatically generating train/validation split with holdout_frac=0.2, Train Rows: 569, Val Rows: 143\n",
      "User-specified model hyperparameters to be fit:\n",
      "{\n",
      "\t'NN_TORCH': {},\n",
      "\t'GBM': [{'extra_trees': True, 'ag_args': {'name_suffix': 'XT'}}, {}, 'GBMLarge'],\n",
      "\t'CAT': {},\n",
      "\t'XGB': {},\n",
      "\t'FASTAI': {},\n",
      "\t'RF': [{'criterion': 'gini', 'ag_args': {'name_suffix': 'Gini', 'problem_types': ['binary', 'multiclass']}}, {'criterion': 'entropy', 'ag_args': {'name_suffix': 'Entr', 'problem_types': ['binary', 'multiclass']}}, {'criterion': 'squared_error', 'ag_args': {'name_suffix': 'MSE', 'problem_types': ['regression', 'quantile']}}],\n",
      "\t'XT': [{'criterion': 'gini', 'ag_args': {'name_suffix': 'Gini', 'problem_types': ['binary', 'multiclass']}}, {'criterion': 'entropy', 'ag_args': {'name_suffix': 'Entr', 'problem_types': ['binary', 'multiclass']}}, {'criterion': 'squared_error', 'ag_args': {'name_suffix': 'MSE', 'problem_types': ['regression', 'quantile']}}],\n",
      "\t'KNN': [{'weights': 'uniform', 'ag_args': {'name_suffix': 'Unif'}}, {'weights': 'distance', 'ag_args': {'name_suffix': 'Dist'}}],\n",
      "}\n",
      "Fitting 13 L1 models ...\n",
      "Fitting model: KNeighborsUnif ...\n",
      "\t0.7133\t = Validation score   (accuracy)\n",
      "\t0.01s\t = Training   runtime\n",
      "\t0.02s\t = Validation runtime\n",
      "Fitting model: KNeighborsDist ...\n",
      "\t0.7203\t = Validation score   (accuracy)\n",
      "\t0.01s\t = Training   runtime\n",
      "\t0.02s\t = Validation runtime\n",
      "Fitting model: LightGBMXT ...\n",
      "\t0.8462\t = Validation score   (accuracy)\n",
      "\t0.48s\t = Training   runtime\n",
      "\t0.0s\t = Validation runtime\n",
      "Fitting model: LightGBM ...\n",
      "\t0.8811\t = Validation score   (accuracy)\n",
      "\t0.52s\t = Training   runtime\n",
      "\t0.0s\t = Validation runtime\n",
      "Fitting model: RandomForestGini ...\n",
      "\t0.8462\t = Validation score   (accuracy)\n",
      "\t0.58s\t = Training   runtime\n",
      "\t0.06s\t = Validation runtime\n",
      "Fitting model: RandomForestEntr ...\n",
      "\t0.8322\t = Validation score   (accuracy)\n",
      "\t0.56s\t = Training   runtime\n",
      "\t0.06s\t = Validation runtime\n",
      "Fitting model: CatBoost ...\n",
      "\t0.8881\t = Validation score   (accuracy)\n",
      "\t1.72s\t = Training   runtime\n",
      "\t0.0s\t = Validation runtime\n",
      "Fitting model: ExtraTreesGini ...\n",
      "\t0.8392\t = Validation score   (accuracy)\n",
      "\t0.56s\t = Training   runtime\n",
      "\t0.07s\t = Validation runtime\n",
      "Fitting model: ExtraTreesEntr ...\n",
      "\t0.8392\t = Validation score   (accuracy)\n",
      "\t0.58s\t = Training   runtime\n",
      "\t0.07s\t = Validation runtime\n",
      "Fitting model: NeuralNetFastAI ...\n",
      "No improvement since epoch 1: early stopping\n",
      "\t0.8671\t = Validation score   (accuracy)\n",
      "\t0.9s\t = Training   runtime\n",
      "\t0.01s\t = Validation runtime\n",
      "Fitting model: XGBoost ...\n",
      "\t0.8811\t = Validation score   (accuracy)\n",
      "\t0.4s\t = Training   runtime\n",
      "\t0.0s\t = Validation runtime\n",
      "Fitting model: NeuralNetTorch ...\n",
      "\t0.8811\t = Validation score   (accuracy)\n",
      "\t1.79s\t = Training   runtime\n",
      "\t0.01s\t = Validation runtime\n",
      "Fitting model: LightGBMLarge ...\n",
      "\t0.8881\t = Validation score   (accuracy)\n",
      "\t0.85s\t = Training   runtime\n",
      "\t0.0s\t = Validation runtime\n",
      "Fitting model: WeightedEnsemble_L2 ...\n",
      "\t0.8951\t = Validation score   (accuracy)\n",
      "\t0.81s\t = Training   runtime\n",
      "\t0.0s\t = Validation runtime\n",
      "AutoGluon training complete, total runtime = 10.48s ... Best model: \"WeightedEnsemble_L2\"\n",
      "TabularPredictor saved. To load, use: predictor = TabularPredictor.load(\"agModels-predictClass\\\")\n"
     ]
    }
   ],
   "source": [
    "from autogluon.tabular import TabularDataset, TabularPredictor\n",
    "label = 'Survived'\n",
    "save_path = 'agModels-predictClass'  # specifies folder to store trained models\n",
    "predictor = TabularPredictor(label=label, path=save_path,).fit(train_cathy)\n",
    "\n"
   ],
   "metadata": {
    "collapsed": false,
    "ExecuteTime": {
     "end_time": "2023-09-03T12:15:49.075245800Z",
     "start_time": "2023-09-03T12:15:38.556004Z"
    }
   },
   "id": "6b3f13515ad187bc"
  },
  {
   "cell_type": "code",
   "execution_count": 150,
   "outputs": [
    {
     "name": "stdout",
     "output_type": "stream",
     "text": [
      "用测试集中的数据进行预测的情况为：\n",
      " 187    0.0\n",
      "223    0.0\n",
      "716    1.0\n",
      "711    1.0\n",
      "333    0.0\n",
      "      ... \n",
      "746    0.0\n",
      "776    0.0\n",
      "59     0.0\n",
      "532    0.0\n",
      "296    0.0\n",
      "Name: Survived, Length: 179, dtype: float64\n"
     ]
    }
   ],
   "source": [
    "y_pred = predictor.predict(test_cathy.drop(columns=[label]))\n",
    "print(\"用测试集中的数据进行预测的情况为：\\n\", y_pred)"
   ],
   "metadata": {
    "collapsed": false,
    "ExecuteTime": {
     "end_time": "2023-09-03T12:15:49.126186300Z",
     "start_time": "2023-09-03T12:15:49.085805500Z"
    }
   },
   "id": "e3ad3b867a87d1dd"
  },
  {
   "cell_type": "code",
   "execution_count": 151,
   "outputs": [
    {
     "data": {
      "text/plain": "                  model  score_test  score_val  pred_time_test  pred_time_val  \\\n0              LightGBM    0.837989   0.881119        0.002999       0.001998   \n1              CatBoost    0.837989   0.888112        0.008988       0.002998   \n2            LightGBMXT    0.832402   0.846154        0.002991       0.002000   \n3   WeightedEnsemble_L2    0.832402   0.895105        0.024979       0.008994   \n4      RandomForestEntr    0.832402   0.832168        0.090656       0.064968   \n5               XGBoost    0.821229   0.881119        0.012992       0.004997   \n6        ExtraTreesEntr    0.821229   0.839161        0.089008       0.073959   \n7         LightGBMLarge    0.810056   0.888112        0.004997       0.002999   \n8      RandomForestGini    0.810056   0.846154        0.088868       0.062948   \n9        ExtraTreesGini    0.810056   0.839161        0.093036       0.069960   \n10      NeuralNetFastAI    0.793296   0.867133        0.016971       0.009994   \n11       NeuralNetTorch    0.787709   0.881119        0.012993       0.007996   \n12       KNeighborsDist    0.698324   0.720280        0.023074       0.022249   \n13       KNeighborsUnif    0.681564   0.713287        0.023986       0.023988   \n\n    fit_time  pred_time_test_marginal  pred_time_val_marginal  \\\n0   0.517370                 0.002999                0.001998   \n1   1.721706                 0.008988                0.002998   \n2   0.478599                 0.002991                0.002000   \n3   2.925529                 0.002998                0.000999   \n4   0.555715                 0.090656                0.064968   \n5   0.398448                 0.012992                0.004997   \n6   0.580308                 0.089008                0.073959   \n7   0.849382                 0.004997                0.002999   \n8   0.583037                 0.088868                0.062948   \n9   0.562813                 0.093036                0.069960   \n10  0.904725                 0.016971                0.009994   \n11  1.786091                 0.012993                0.007996   \n12  0.006012                 0.023074                0.022249   \n13  0.005015                 0.023986                0.023988   \n\n    fit_time_marginal  stack_level  can_infer  fit_order  \n0            0.517370            1       True          4  \n1            1.721706            1       True          7  \n2            0.478599            1       True          3  \n3            0.805375            2       True         14  \n4            0.555715            1       True          6  \n5            0.398448            1       True         11  \n6            0.580308            1       True          9  \n7            0.849382            1       True         13  \n8            0.583037            1       True          5  \n9            0.562813            1       True          8  \n10           0.904725            1       True         10  \n11           1.786091            1       True         12  \n12           0.006012            1       True          2  \n13           0.005015            1       True          1  ",
      "text/html": "<div>\n<style scoped>\n    .dataframe tbody tr th:only-of-type {\n        vertical-align: middle;\n    }\n\n    .dataframe tbody tr th {\n        vertical-align: top;\n    }\n\n    .dataframe thead th {\n        text-align: right;\n    }\n</style>\n<table border=\"1\" class=\"dataframe\">\n  <thead>\n    <tr style=\"text-align: right;\">\n      <th></th>\n      <th>model</th>\n      <th>score_test</th>\n      <th>score_val</th>\n      <th>pred_time_test</th>\n      <th>pred_time_val</th>\n      <th>fit_time</th>\n      <th>pred_time_test_marginal</th>\n      <th>pred_time_val_marginal</th>\n      <th>fit_time_marginal</th>\n      <th>stack_level</th>\n      <th>can_infer</th>\n      <th>fit_order</th>\n    </tr>\n  </thead>\n  <tbody>\n    <tr>\n      <th>0</th>\n      <td>LightGBM</td>\n      <td>0.837989</td>\n      <td>0.881119</td>\n      <td>0.002999</td>\n      <td>0.001998</td>\n      <td>0.517370</td>\n      <td>0.002999</td>\n      <td>0.001998</td>\n      <td>0.517370</td>\n      <td>1</td>\n      <td>True</td>\n      <td>4</td>\n    </tr>\n    <tr>\n      <th>1</th>\n      <td>CatBoost</td>\n      <td>0.837989</td>\n      <td>0.888112</td>\n      <td>0.008988</td>\n      <td>0.002998</td>\n      <td>1.721706</td>\n      <td>0.008988</td>\n      <td>0.002998</td>\n      <td>1.721706</td>\n      <td>1</td>\n      <td>True</td>\n      <td>7</td>\n    </tr>\n    <tr>\n      <th>2</th>\n      <td>LightGBMXT</td>\n      <td>0.832402</td>\n      <td>0.846154</td>\n      <td>0.002991</td>\n      <td>0.002000</td>\n      <td>0.478599</td>\n      <td>0.002991</td>\n      <td>0.002000</td>\n      <td>0.478599</td>\n      <td>1</td>\n      <td>True</td>\n      <td>3</td>\n    </tr>\n    <tr>\n      <th>3</th>\n      <td>WeightedEnsemble_L2</td>\n      <td>0.832402</td>\n      <td>0.895105</td>\n      <td>0.024979</td>\n      <td>0.008994</td>\n      <td>2.925529</td>\n      <td>0.002998</td>\n      <td>0.000999</td>\n      <td>0.805375</td>\n      <td>2</td>\n      <td>True</td>\n      <td>14</td>\n    </tr>\n    <tr>\n      <th>4</th>\n      <td>RandomForestEntr</td>\n      <td>0.832402</td>\n      <td>0.832168</td>\n      <td>0.090656</td>\n      <td>0.064968</td>\n      <td>0.555715</td>\n      <td>0.090656</td>\n      <td>0.064968</td>\n      <td>0.555715</td>\n      <td>1</td>\n      <td>True</td>\n      <td>6</td>\n    </tr>\n    <tr>\n      <th>5</th>\n      <td>XGBoost</td>\n      <td>0.821229</td>\n      <td>0.881119</td>\n      <td>0.012992</td>\n      <td>0.004997</td>\n      <td>0.398448</td>\n      <td>0.012992</td>\n      <td>0.004997</td>\n      <td>0.398448</td>\n      <td>1</td>\n      <td>True</td>\n      <td>11</td>\n    </tr>\n    <tr>\n      <th>6</th>\n      <td>ExtraTreesEntr</td>\n      <td>0.821229</td>\n      <td>0.839161</td>\n      <td>0.089008</td>\n      <td>0.073959</td>\n      <td>0.580308</td>\n      <td>0.089008</td>\n      <td>0.073959</td>\n      <td>0.580308</td>\n      <td>1</td>\n      <td>True</td>\n      <td>9</td>\n    </tr>\n    <tr>\n      <th>7</th>\n      <td>LightGBMLarge</td>\n      <td>0.810056</td>\n      <td>0.888112</td>\n      <td>0.004997</td>\n      <td>0.002999</td>\n      <td>0.849382</td>\n      <td>0.004997</td>\n      <td>0.002999</td>\n      <td>0.849382</td>\n      <td>1</td>\n      <td>True</td>\n      <td>13</td>\n    </tr>\n    <tr>\n      <th>8</th>\n      <td>RandomForestGini</td>\n      <td>0.810056</td>\n      <td>0.846154</td>\n      <td>0.088868</td>\n      <td>0.062948</td>\n      <td>0.583037</td>\n      <td>0.088868</td>\n      <td>0.062948</td>\n      <td>0.583037</td>\n      <td>1</td>\n      <td>True</td>\n      <td>5</td>\n    </tr>\n    <tr>\n      <th>9</th>\n      <td>ExtraTreesGini</td>\n      <td>0.810056</td>\n      <td>0.839161</td>\n      <td>0.093036</td>\n      <td>0.069960</td>\n      <td>0.562813</td>\n      <td>0.093036</td>\n      <td>0.069960</td>\n      <td>0.562813</td>\n      <td>1</td>\n      <td>True</td>\n      <td>8</td>\n    </tr>\n    <tr>\n      <th>10</th>\n      <td>NeuralNetFastAI</td>\n      <td>0.793296</td>\n      <td>0.867133</td>\n      <td>0.016971</td>\n      <td>0.009994</td>\n      <td>0.904725</td>\n      <td>0.016971</td>\n      <td>0.009994</td>\n      <td>0.904725</td>\n      <td>1</td>\n      <td>True</td>\n      <td>10</td>\n    </tr>\n    <tr>\n      <th>11</th>\n      <td>NeuralNetTorch</td>\n      <td>0.787709</td>\n      <td>0.881119</td>\n      <td>0.012993</td>\n      <td>0.007996</td>\n      <td>1.786091</td>\n      <td>0.012993</td>\n      <td>0.007996</td>\n      <td>1.786091</td>\n      <td>1</td>\n      <td>True</td>\n      <td>12</td>\n    </tr>\n    <tr>\n      <th>12</th>\n      <td>KNeighborsDist</td>\n      <td>0.698324</td>\n      <td>0.720280</td>\n      <td>0.023074</td>\n      <td>0.022249</td>\n      <td>0.006012</td>\n      <td>0.023074</td>\n      <td>0.022249</td>\n      <td>0.006012</td>\n      <td>1</td>\n      <td>True</td>\n      <td>2</td>\n    </tr>\n    <tr>\n      <th>13</th>\n      <td>KNeighborsUnif</td>\n      <td>0.681564</td>\n      <td>0.713287</td>\n      <td>0.023986</td>\n      <td>0.023988</td>\n      <td>0.005015</td>\n      <td>0.023986</td>\n      <td>0.023988</td>\n      <td>0.005015</td>\n      <td>1</td>\n      <td>True</td>\n      <td>1</td>\n    </tr>\n  </tbody>\n</table>\n</div>"
     },
     "execution_count": 151,
     "metadata": {},
     "output_type": "execute_result"
    }
   ],
   "source": [
    "predictor.leaderboard(test_cathy, silent=True)"
   ],
   "metadata": {
    "collapsed": false,
    "ExecuteTime": {
     "end_time": "2023-09-03T12:15:49.668730800Z",
     "start_time": "2023-09-03T12:15:49.117190200Z"
    }
   },
   "id": "a71d438f2b6fd58c"
  },
  {
   "cell_type": "code",
   "execution_count": 152,
   "outputs": [
    {
     "data": {
      "text/plain": "{'accuracy': 0.8324022346368715,\n 'balanced_accuracy': 0.8135930047694754,\n 'mcc': 0.6397695004213159,\n 'roc_auc': 0.8667196608373079,\n 'f1': 0.7692307692307693,\n 'precision': 0.8064516129032258,\n 'recall': 0.7352941176470589}"
     },
     "execution_count": 152,
     "metadata": {},
     "output_type": "execute_result"
    }
   ],
   "source": [
    "predictor.evaluate(test_cathy, silent=True)"
   ],
   "metadata": {
    "collapsed": false,
    "ExecuteTime": {
     "end_time": "2023-09-03T12:15:49.824714700Z",
     "start_time": "2023-09-03T12:15:49.674727300Z"
    }
   },
   "id": "e55fb7033339128a"
  },
  {
   "cell_type": "code",
   "execution_count": 159,
   "outputs": [],
   "source": [
    "y_forecast = predictor.predict(pred_X)\n",
    "# 将y_forecast转化为int类型\n",
    "y_forecast = y_forecast.astype(int)\n",
    "# 将y_forecast转化为dataframe\n",
    "y_forecast = pd.DataFrame(y_forecast)\n",
    "# 将y_forecast添加新的一列PassengerId,要求放在第一列\n",
    "y_forecast.insert(0, 'PassengerId', passenger_id)\n",
    "y_forecast\n",
    "# 保存导answer_data文件夹中\n",
    "y_forecast.to_csv('../answer_data/Titanic_byautogluon.csv', index=False)"
   ],
   "metadata": {
    "collapsed": false,
    "ExecuteTime": {
     "end_time": "2023-09-03T12:25:18.935835200Z",
     "start_time": "2023-09-03T12:25:18.827805700Z"
    }
   },
   "id": "4b0eae97a345bbae"
  },
  {
   "cell_type": "code",
   "execution_count": null,
   "outputs": [],
   "source": [],
   "metadata": {
    "collapsed": false,
    "ExecuteTime": {
     "start_time": "2023-09-03T12:15:49.927195700Z"
    }
   },
   "id": "c42ec9cda4835863"
  }
 ],
 "metadata": {
  "kernelspec": {
   "display_name": "Python 3",
   "language": "python",
   "name": "python3"
  },
  "language_info": {
   "codemirror_mode": {
    "name": "ipython",
    "version": 2
   },
   "file_extension": ".py",
   "mimetype": "text/x-python",
   "name": "python",
   "nbconvert_exporter": "python",
   "pygments_lexer": "ipython2",
   "version": "2.7.6"
  }
 },
 "nbformat": 4,
 "nbformat_minor": 5
}
